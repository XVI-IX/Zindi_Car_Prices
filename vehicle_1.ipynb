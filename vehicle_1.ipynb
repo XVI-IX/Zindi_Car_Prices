{
 "cells": [
  {
   "cell_type": "markdown",
   "metadata": {
    "jp-MarkdownHeadingCollapsed": true,
    "tags": []
   },
   "source": [
    "## **Importing Modules**"
   ]
  },
  {
   "cell_type": "code",
   "execution_count": 63,
   "metadata": {},
   "outputs": [],
   "source": [
    "from collections import Counter\n",
    "\n",
    "import numpy as np\n",
    "import pandas as pd\n",
    "import matplotlib.pyplot as plt\n",
    "import seaborn as sns\n",
    "\n",
    "from sklearn.base import TransformerMixin, BaseEstimator\n",
    "from sklearn.preprocessing import LabelEncoder\n",
    "from sklearn.preprocessing import LabelEncoder\n",
    "from sklearn.preprocessing import StandardScaler\n",
    "from sklearn.model_selection import train_test_split\n",
    "from sklearn.experimental import enable_halving_search_cv\n",
    "from sklearn.model_selection import HalvingGridSearchCV\n",
    "# from sklearn.decomposition import PCA\n",
    "from sklearn.feature_extraction.text import CountVectorizer\n",
    "import xgboost as xgb\n",
    "\n",
    "from sklearn.ensemble import RandomForestRegressor, VotingRegressor\n",
    "# from sklearn.linear_model import Lasso, Ridge\n",
    "from sklearn.svm import SVR\n",
    "from sklearn.tree import DecisionTreeRegressor\n",
    "\n",
    "from sklearn.metrics import mean_squared_error as mse\n",
    "\n",
    "import tensorflow as tf\n",
    "from tensorflow import keras\n",
    "from tensorflow.keras.layers import Dense, Dropout\n",
    "from tensorflow.keras import Sequential\n",
    "from tensorflow.keras.losses import MeanSquaredError as net_mse\n"
   ]
  },
  {
   "cell_type": "markdown",
   "metadata": {
    "jp-MarkdownHeadingCollapsed": true,
    "tags": []
   },
   "source": [
    "## **Exploratory Data Analysis (EDA)**"
   ]
  },
  {
   "cell_type": "markdown",
   "metadata": {
    "jp-MarkdownHeadingCollapsed": true,
    "tags": []
   },
   "source": [
    "### **Reading in Datasets**"
   ]
  },
  {
   "cell_type": "code",
   "execution_count": 108,
   "metadata": {},
   "outputs": [],
   "source": [
    "train = pd.read_csv(\"Train.csv\", sep=\",\")\n"
   ]
  },
  {
   "cell_type": "code",
   "execution_count": 109,
   "metadata": {},
   "outputs": [
    {
     "data": {
      "text/html": [
       "<div>\n",
       "<style scoped>\n",
       "    .dataframe tbody tr th:only-of-type {\n",
       "        vertical-align: middle;\n",
       "    }\n",
       "\n",
       "    .dataframe tbody tr th {\n",
       "        vertical-align: top;\n",
       "    }\n",
       "\n",
       "    .dataframe thead th {\n",
       "        text-align: right;\n",
       "    }\n",
       "</style>\n",
       "<table border=\"1\" class=\"dataframe\">\n",
       "  <thead>\n",
       "    <tr style=\"text-align: right;\">\n",
       "      <th></th>\n",
       "      <th>VehicleID</th>\n",
       "      <th>Location</th>\n",
       "      <th>Maker</th>\n",
       "      <th>Model</th>\n",
       "      <th>Year</th>\n",
       "      <th>Colour</th>\n",
       "      <th>Amount (Million Naira)</th>\n",
       "      <th>Type</th>\n",
       "      <th>Distance</th>\n",
       "    </tr>\n",
       "  </thead>\n",
       "  <tbody>\n",
       "    <tr>\n",
       "      <th>0</th>\n",
       "      <td>VHL12546</td>\n",
       "      <td>Abuja</td>\n",
       "      <td>Honda</td>\n",
       "      <td>Accord Coupe EX V-6</td>\n",
       "      <td>2,011</td>\n",
       "      <td>Silver</td>\n",
       "      <td>2.2</td>\n",
       "      <td>Nigerian Used</td>\n",
       "      <td>NaN</td>\n",
       "    </tr>\n",
       "    <tr>\n",
       "      <th>1</th>\n",
       "      <td>VHL18827</td>\n",
       "      <td>Ibadan</td>\n",
       "      <td>Hyundai</td>\n",
       "      <td>Sonata</td>\n",
       "      <td>2,012</td>\n",
       "      <td>Silver</td>\n",
       "      <td>3.5</td>\n",
       "      <td>Nigerian Used</td>\n",
       "      <td>125,000</td>\n",
       "    </tr>\n",
       "    <tr>\n",
       "      <th>2</th>\n",
       "      <td>VHL19499</td>\n",
       "      <td>Lagos</td>\n",
       "      <td>Lexus</td>\n",
       "      <td>RX 350</td>\n",
       "      <td>2,010</td>\n",
       "      <td>Red</td>\n",
       "      <td>9.2</td>\n",
       "      <td>Foreign Used</td>\n",
       "      <td>110,852</td>\n",
       "    </tr>\n",
       "    <tr>\n",
       "      <th>3</th>\n",
       "      <td>VHL17991</td>\n",
       "      <td>Abuja</td>\n",
       "      <td>Mercedes-Benz</td>\n",
       "      <td>GLE-Class</td>\n",
       "      <td>2,017</td>\n",
       "      <td>Blue</td>\n",
       "      <td>22.8</td>\n",
       "      <td>Foreign Used</td>\n",
       "      <td>30,000</td>\n",
       "    </tr>\n",
       "    <tr>\n",
       "      <th>4</th>\n",
       "      <td>VHL12170</td>\n",
       "      <td>Ibadan</td>\n",
       "      <td>Toyota</td>\n",
       "      <td>Highlander</td>\n",
       "      <td>2,002</td>\n",
       "      <td>Red</td>\n",
       "      <td>2.6</td>\n",
       "      <td>Nigerian Used</td>\n",
       "      <td>125,206</td>\n",
       "    </tr>\n",
       "  </tbody>\n",
       "</table>\n",
       "</div>"
      ],
      "text/plain": [
       "  VehicleID Location          Maker                Model   Year  Colour  \\\n",
       "0  VHL12546    Abuja          Honda  Accord Coupe EX V-6  2,011  Silver   \n",
       "1  VHL18827   Ibadan        Hyundai               Sonata  2,012  Silver   \n",
       "2  VHL19499    Lagos          Lexus               RX 350  2,010     Red   \n",
       "3  VHL17991    Abuja  Mercedes-Benz            GLE-Class  2,017    Blue   \n",
       "4  VHL12170   Ibadan         Toyota           Highlander  2,002     Red   \n",
       "\n",
       "   Amount (Million Naira)           Type Distance  \n",
       "0                     2.2  Nigerian Used      NaN  \n",
       "1                     3.5  Nigerian Used  125,000  \n",
       "2                     9.2   Foreign Used  110,852  \n",
       "3                    22.8   Foreign Used   30,000  \n",
       "4                     2.6  Nigerian Used  125,206  "
      ]
     },
     "execution_count": 109,
     "metadata": {},
     "output_type": "execute_result"
    }
   ],
   "source": [
    "train.head()\n"
   ]
  },
  {
   "cell_type": "code",
   "execution_count": 110,
   "metadata": {},
   "outputs": [
    {
     "name": "stdout",
     "output_type": "stream",
     "text": [
      "<class 'pandas.core.frame.DataFrame'>\n",
      "RangeIndex: 7205 entries, 0 to 7204\n",
      "Data columns (total 9 columns):\n",
      " #   Column                  Non-Null Count  Dtype  \n",
      "---  ------                  --------------  -----  \n",
      " 0   VehicleID               7205 non-null   object \n",
      " 1   Location                7205 non-null   object \n",
      " 2   Maker                   7205 non-null   object \n",
      " 3   Model                   7205 non-null   object \n",
      " 4   Year                    7184 non-null   object \n",
      " 5   Colour                  7205 non-null   object \n",
      " 6   Amount (Million Naira)  7188 non-null   float64\n",
      " 7   Type                    7008 non-null   object \n",
      " 8   Distance                4845 non-null   object \n",
      "dtypes: float64(1), object(8)\n",
      "memory usage: 506.7+ KB\n"
     ]
    }
   ],
   "source": [
    "train.info()"
   ]
  },
  {
   "cell_type": "code",
   "execution_count": 111,
   "metadata": {},
   "outputs": [
    {
     "data": {
      "text/plain": [
       "VehicleID                    0\n",
       "Location                     0\n",
       "Maker                        0\n",
       "Model                        0\n",
       "Year                        21\n",
       "Colour                       0\n",
       "Amount (Million Naira)      17\n",
       "Type                       197\n",
       "Distance                  2360\n",
       "dtype: int64"
      ]
     },
     "execution_count": 111,
     "metadata": {},
     "output_type": "execute_result"
    }
   ],
   "source": [
    "train.isnull().sum()\n"
   ]
  },
  {
   "cell_type": "code",
   "execution_count": 112,
   "metadata": {},
   "outputs": [],
   "source": [
    "test = pd.read_csv(\"Test.csv\", sep=\",\")"
   ]
  },
  {
   "cell_type": "code",
   "execution_count": 113,
   "metadata": {},
   "outputs": [
    {
     "data": {
      "text/html": [
       "<div>\n",
       "<style scoped>\n",
       "    .dataframe tbody tr th:only-of-type {\n",
       "        vertical-align: middle;\n",
       "    }\n",
       "\n",
       "    .dataframe tbody tr th {\n",
       "        vertical-align: top;\n",
       "    }\n",
       "\n",
       "    .dataframe thead th {\n",
       "        text-align: right;\n",
       "    }\n",
       "</style>\n",
       "<table border=\"1\" class=\"dataframe\">\n",
       "  <thead>\n",
       "    <tr style=\"text-align: right;\">\n",
       "      <th></th>\n",
       "      <th>VehicleID</th>\n",
       "      <th>Location</th>\n",
       "      <th>Maker</th>\n",
       "      <th>Model</th>\n",
       "      <th>Year</th>\n",
       "      <th>Colour</th>\n",
       "      <th>Type</th>\n",
       "      <th>Distance</th>\n",
       "    </tr>\n",
       "  </thead>\n",
       "  <tbody>\n",
       "    <tr>\n",
       "      <th>0</th>\n",
       "      <td>VHL18518</td>\n",
       "      <td>Abuja</td>\n",
       "      <td>BMW</td>\n",
       "      <td>323i</td>\n",
       "      <td>2,008</td>\n",
       "      <td>White</td>\n",
       "      <td>Foreign Used</td>\n",
       "      <td>30524.0</td>\n",
       "    </tr>\n",
       "    <tr>\n",
       "      <th>1</th>\n",
       "      <td>VHL17149</td>\n",
       "      <td>Lagos</td>\n",
       "      <td>Toyota</td>\n",
       "      <td>Camry</td>\n",
       "      <td>2,013</td>\n",
       "      <td>White</td>\n",
       "      <td>Foreign Used</td>\n",
       "      <td>NaN</td>\n",
       "    </tr>\n",
       "    <tr>\n",
       "      <th>2</th>\n",
       "      <td>VHL10927</td>\n",
       "      <td>Lagos</td>\n",
       "      <td>Toyota</td>\n",
       "      <td>Highlander Limited V6</td>\n",
       "      <td>2,005</td>\n",
       "      <td>Gold</td>\n",
       "      <td>Foreign Used</td>\n",
       "      <td>NaN</td>\n",
       "    </tr>\n",
       "    <tr>\n",
       "      <th>3</th>\n",
       "      <td>VHL12909</td>\n",
       "      <td>Lagos</td>\n",
       "      <td>Toyota</td>\n",
       "      <td>Camry</td>\n",
       "      <td>2,011</td>\n",
       "      <td>Gray</td>\n",
       "      <td>Foreign Used</td>\n",
       "      <td>166839.0</td>\n",
       "    </tr>\n",
       "    <tr>\n",
       "      <th>4</th>\n",
       "      <td>VHL12348</td>\n",
       "      <td>Lagos</td>\n",
       "      <td>Lexus</td>\n",
       "      <td>ES 350 FWD</td>\n",
       "      <td>2,013</td>\n",
       "      <td>Red</td>\n",
       "      <td>Foreign Used</td>\n",
       "      <td>88862.0</td>\n",
       "    </tr>\n",
       "  </tbody>\n",
       "</table>\n",
       "</div>"
      ],
      "text/plain": [
       "  VehicleID Location   Maker                  Model   Year Colour  \\\n",
       "0  VHL18518    Abuja     BMW                   323i  2,008  White   \n",
       "1  VHL17149    Lagos  Toyota                  Camry  2,013  White   \n",
       "2  VHL10927    Lagos  Toyota  Highlander Limited V6  2,005   Gold   \n",
       "3  VHL12909    Lagos  Toyota                  Camry  2,011   Gray   \n",
       "4  VHL12348    Lagos   Lexus             ES 350 FWD  2,013    Red   \n",
       "\n",
       "           Type  Distance  \n",
       "0  Foreign Used   30524.0  \n",
       "1  Foreign Used       NaN  \n",
       "2  Foreign Used       NaN  \n",
       "3  Foreign Used  166839.0  \n",
       "4  Foreign Used   88862.0  "
      ]
     },
     "execution_count": 113,
     "metadata": {},
     "output_type": "execute_result"
    }
   ],
   "source": [
    "test.head()\n"
   ]
  },
  {
   "cell_type": "code",
   "execution_count": 114,
   "metadata": {},
   "outputs": [],
   "source": [
    "train[\"data\"] = \"train\"\n",
    "test[\"data\"] = \"test\"\n",
    "\n"
   ]
  },
  {
   "cell_type": "code",
   "execution_count": 115,
   "metadata": {},
   "outputs": [
    {
     "data": {
      "text/plain": [
       "VehicleID      0\n",
       "Location       0\n",
       "Maker          0\n",
       "Model          0\n",
       "Year           2\n",
       "Colour         0\n",
       "Type          54\n",
       "Distance     676\n",
       "data           0\n",
       "dtype: int64"
      ]
     },
     "execution_count": 115,
     "metadata": {},
     "output_type": "execute_result"
    }
   ],
   "source": [
    "test.isnull().sum()\n"
   ]
  },
  {
   "cell_type": "markdown",
   "metadata": {
    "jp-MarkdownHeadingCollapsed": true,
    "tags": []
   },
   "source": [
    "### **Function Definitions**"
   ]
  },
  {
   "cell_type": "code",
   "execution_count": 116,
   "metadata": {},
   "outputs": [],
   "source": [
    "def outlier_detection(X, n, cols=None):\n",
    "    \"\"\"\n",
    "        A function to detect outliers using tuckey fences\n",
    "    \"\"\"\n",
    "    outlier_idx = []\n",
    "\n",
    "    if cols is not None:\n",
    "        for col in cols:\n",
    "            Q1 = np.nanpercentile(X[col], 25)\n",
    "            Q3 = np.nanpercentile(X[col], 75)\n",
    "\n",
    "            IQR = Q3 - Q1\n",
    "\n",
    "            upper = (IQR * 1.5) + Q3\n",
    "            lower = Q1 - (IQR * 1.5)\n",
    "\n",
    "            outliers = X[(X[col] < lower) | (X[col] > upper)].index\n",
    "\n",
    "            outlier_idx.extend(outliers)\n",
    "\n",
    "            print(f\"{col} has lower limit of {lower} and upper limit of {upper}\")\n",
    "\n",
    "        outlier_idx = Counter(outlier_idx)\n",
    "        multiple_outliers = list(k for k, v in outlier_idx.items() if v >= n)\n",
    "\n",
    "    else:\n",
    "        for col in X.columns:\n",
    "            Q1 = np.nanpercentile(X[col], 25)\n",
    "            Q3 = np.nanpercentile(X[col], 75)\n",
    "\n",
    "            IQR = Q3 - Q1\n",
    "\n",
    "            upper = (IQR * 1.5) + Q3\n",
    "            lower = Q1 - (IQR * 1.5)\n",
    "\n",
    "            outliers = X[(X[col] < lower) | (X[col] > upper)].index\n",
    "\n",
    "            outlier_idx.extend(outliers)\n",
    "\n",
    "            print(f\"{col} has lower limit of {lower} and upper limit of {upper}\")\n",
    "\n",
    "        outlier_idx = Counter(outlier_idx)\n",
    "        multiple_outliers = list(k for k, v in outlier_idx.items() if v >= n)\n",
    "\n",
    "    return multiple_outliers\n",
    "\n",
    "\n",
    "def yearTransform(X, col_name=\"Year\"):\n",
    "    \"\"\"Function to transform the Year column into a datetime feature\n",
    "       X - DataFrame from which the year column is to be changed\n",
    "       col_name - Name of the year column to be changed\n",
    "    \"\"\"\n",
    "\n",
    "    df = X.copy()\n",
    "\n",
    "    df[col_name] = df[col_name].apply(\n",
    "        lambda x: str(x).replace(\",\", \"\")).astype(np.float64)\n",
    "\n",
    "    year_median = df[col_name].median()\n",
    "    df[col_name].fillna(year_median, inplace=True)\n",
    "\n",
    "    df[col_name] = pd.to_datetime(df[col_name], format=\"%Y\")\n",
    "    df[col_name] = pd.DatetimeIndex(df[col_name]).year\n",
    "\n",
    "    print(f\"maker_location - {df.shape}\")\n",
    "\n",
    "    return df\n",
    "\n",
    "\n",
    "def distanceTransform(X, col_name=\"Distance\"):\n",
    "    \"\"\"\n",
    "    Function to transform the Distance column into a float\n",
    "\n",
    "    X - DataFrame from which the year column is to be changed\n",
    "    col_name - Name of the year column to be changed\n",
    "    \"\"\"\n",
    "\n",
    "    df = X.copy()\n",
    "\n",
    "    df[col_name] = df[col_name].apply(\n",
    "        lambda x: str(x).replace(\",\", \"\")).astype(np.float64)\n",
    "\n",
    "    print(f\"distanceTransform - {df.shape}\")\n",
    "\n",
    "    return df\n",
    "\n",
    "\n",
    "def distanceImpute(X):\n",
    "\n",
    "    df = X.copy()\n",
    "\n",
    "    distance_group = df.groupby(\"Type\")[\"Distance\"].median()\n",
    "\n",
    "    # type_list = [\"Brand New\", \"Foreign Used\", \"Nigerian Used\"]\n",
    "\n",
    "    brand_new_train = df[df[\"Type\"] == \"Brand New\"]\n",
    "    brand_new_train[\"Distance\"].fillna(distance_group[0], inplace=True)\n",
    "\n",
    "    foreign_train = df[df[\"Type\"] == \"Foreign Used\"]\n",
    "    foreign_train[\"Distance\"].fillna(distance_group[1], inplace=True)\n",
    "\n",
    "    naija_train = df[df[\"Type\"] == \"Nigerian Used\"]\n",
    "    naija_train[\"Distance\"].fillna(distance_group[2], inplace=True)\n",
    "\n",
    "    # other_train = df[df[\"Type\"] not in type_list]\n",
    "    # other_train[\"Distance\"]\n",
    "\n",
    "    print(f\"distanceImputeA - {df.shape}\")\n",
    "\n",
    "    df = pd.concat([brand_new_train, foreign_train,  naija_train])\n",
    "\n",
    "    print(f\"distanceImpute - {df.shape}\")\n",
    "\n",
    "    return df\n",
    "\n",
    "\n",
    "def typeImpute(X):\n",
    "\n",
    "    df = X.copy()\n",
    "\n",
    "    df[\"Type\"].fillna(method=\"ffill\", inplace=True)\n",
    "\n",
    "    print(f\"typeImpute - {df.shape}\")\n",
    "\n",
    "    return df\n",
    "\n",
    "\n",
    "def maker_location(X):\n",
    "\n",
    "    df = X.copy()\n",
    "\n",
    "    maker_location = []\n",
    "    japan = [\"Toyota\", \"Lexus\", \"Honda\",\n",
    "             \"Acura\", \"Nissan\", \"Mazda\",\n",
    "             \"Mitsubishi\", \"Infiniti\", \"Scion\",\n",
    "             \"Suzuki\", \"Subaru\"]\n",
    "\n",
    "    germany = [\"Mercedes-Benz\", \"BMW\", \"Volkswagen\",\n",
    "               \"Audi\", \"Porsche\", \"Opel\",\n",
    "               \"Brabus\"]\n",
    "\n",
    "    korea = [\"Hyundai\", \"Kia\"]\n",
    "\n",
    "    uk = [\"Rolls-Royce\", \"Jaguar\", \"mini\",\n",
    "          \"Bentley\", \"Land Rover\", \"MG\", \"Rover\"]\n",
    "\n",
    "    italy = [\"Maserati\", \"Lamborghini\", \"Ferrari\"]\n",
    "\n",
    "    usa = [\"Cadillac\", \"Ford\", \"Pontiac\", \"Dodge\",\n",
    "           \"Jeep\", \"Chevrolet\", \"Saturn\", \"GMC\", \"Lincoln\",\n",
    "           \"Buick\", \"Chrysler\", \"Hummer\", \"King\"]\n",
    "\n",
    "    france = [\"Peugeot\", \"Renault\", \"Citroen\"]\n",
    "\n",
    "    sweden = [\"Volvo\", \"Saab\"]\n",
    "\n",
    "    others = [\"GAC\", \"JAC\", \"BAW\", \"IVM\", \"Skoda\"]\n",
    "\n",
    "    for car in df[\"Maker\"]:\n",
    "        if car in japan:\n",
    "            maker_location.append(\"Japan\")\n",
    "        elif car in germany:\n",
    "            maker_location.append(\"Germany\")\n",
    "        elif car in korea:\n",
    "            maker_location.append(\"Korea\")\n",
    "        elif car in uk:\n",
    "            maker_location.append(\"UK\")\n",
    "        elif car in italy:\n",
    "            maker_location.append(\"Italy\")\n",
    "        elif car in usa:\n",
    "            maker_location.append(\"USA\")\n",
    "        elif car in france:\n",
    "            maker_location.append(\"France\")\n",
    "        elif car in sweden:\n",
    "            maker_location.append(\"Sweden\")\n",
    "        else:\n",
    "            maker_location.append(\"Others\")\n",
    "\n",
    "    df[\"maker_location\"] = maker_location\n",
    "\n",
    "    print(f\"maker_location - {df.shape}\")\n",
    "    return df\n",
    "\n",
    "\n",
    "def model_extract(X):\n",
    "\n",
    "    df = X.copy()\n",
    "\n",
    "    model_list = []\n",
    "\n",
    "    for model in df[\"Model\"]:\n",
    "        model_list.append(model.split()[0])\n",
    "\n",
    "    df[\"Model_name\"] = model_list\n",
    "\n",
    "    print(f\"model_extract - {df.shape}\")\n",
    "\n",
    "    return df\n",
    "\n",
    "\n",
    "def model_year(X):\n",
    "\n",
    "    df = X.copy()\n",
    "    df[\"Model_year\"] = df[\"Model\"] + \" \" + \\\n",
    "        str(df[\"Year\"]).split(\"\\n\")[0].split()[1]\n",
    "\n",
    "    # train[\"Model_year\"]\n",
    "    # sum = 0\n",
    "    for car in df[\"Model_year\"]:\n",
    "        car = car.split()[0] + \" \" + car.split()[-1]\n",
    "\n",
    "        if \"2020 2020\" in car:\n",
    "            car.replace(\"2020 2020\", '2020')\n",
    "\n",
    "        # sum += 1\n",
    "        # print(car)\n",
    "    # print(sum)\n",
    "    print(f\"model_year - {df.shape}\")\n",
    "\n",
    "    return df\n",
    "\n",
    "\n",
    "def amountImpute(X):\n",
    "\n",
    "    df = X.copy()\n",
    "\n",
    "    amount_median = df[\"Amount (Million Naira)\"].median()\n",
    "    df[\"Amount (Million Naira)\"] = df[\"Amount (Million Naira)\"].fillna(\n",
    "        amount_median)\n",
    "\n",
    "    return df\n"
   ]
  },
  {
   "cell_type": "code",
   "execution_count": 117,
   "metadata": {},
   "outputs": [],
   "source": [
    "def process(X):\n",
    "    \n",
    "    df = X.copy()\n",
    "    \n",
    "    df = yearTransform(df)\n",
    "    df = typeImpute(df)\n",
    "    df = distanceTransform(df)\n",
    "    df = distanceImpute(df)\n",
    "    df = maker_location(df)\n",
    "    df = model_extract(df)\n",
    "    df = model_year(df)\n",
    "\n",
    "    if \"Amount (Million Naira)\" in df.columns:\n",
    "        df = amountImpute(df)\n",
    "\n",
    "    return df\n"
   ]
  },
  {
   "cell_type": "code",
   "execution_count": 118,
   "metadata": {},
   "outputs": [],
   "source": [
    "class Processing(BaseEstimator, TransformerMixin):\n",
    "    def fit(self, X, y=None):\n",
    "        return self\n",
    "\n",
    "    def transform(self, X, y=None):\n",
    "        df = X.copy()\n",
    "\n",
    "        if df is not None:\n",
    "            df = process(df)\n",
    "            return df\n",
    "        else:\n",
    "            pass\n",
    "\n",
    "\n",
    "class MultiEncoder:\n",
    "    def __init__(self, columns=None, d_columns=None):\n",
    "        self.columns = columns\n",
    "        self.dummys = d_columns\n",
    "\n",
    "    def fit(self, X, y=None):\n",
    "        return self\n",
    "\n",
    "    def transform(self, X, y=None,):\n",
    "        df = X.copy()\n",
    "\n",
    "        if self.dummys is not None:\n",
    "            dummies = pd.get_dummies(df[self.dummys])\n",
    "            df = pd.concat([df, dummies], axis=1)\n",
    "            df = df.drop(self.dummys, axis=1)\n",
    "\n",
    "        if self.columns is not None:\n",
    "            for col in self.columns:\n",
    "                df[col] = LabelEncoder().fit_transform(df[col])\n",
    "\n",
    "        else:\n",
    "            for colname, col in df.iteritems():\n",
    "                df[colname] = LabelEncoder().fit_transform(col)\n",
    "\n",
    "        return df\n",
    "\n",
    "    def fit_transform(self, X, y=None):\n",
    "        return self.fit(X, y).transform(X)\n"
   ]
  },
  {
   "cell_type": "markdown",
   "metadata": {},
   "source": [
    "**Processing Data** <br>\n",
    "Processing data according to the functions defined above"
   ]
  },
  {
   "cell_type": "code",
   "execution_count": 119,
   "metadata": {},
   "outputs": [
    {
     "name": "stdout",
     "output_type": "stream",
     "text": [
      "maker_location - (7205, 10)\n",
      "typeImpute - (7205, 10)\n",
      "distanceTransform - (7205, 10)\n",
      "distanceImputeA - (7205, 10)\n",
      "distanceImpute - (7205, 10)\n",
      "maker_location - (7205, 11)\n",
      "model_extract - (7205, 12)\n",
      "model_year - (7205, 13)\n",
      "maker_location - (2061, 9)\n",
      "typeImpute - (2061, 9)\n",
      "distanceTransform - (2061, 9)\n",
      "distanceImputeA - (2061, 9)\n",
      "distanceImpute - (2061, 9)\n",
      "maker_location - (2061, 10)\n",
      "model_extract - (2061, 11)\n",
      "model_year - (2061, 12)\n"
     ]
    },
    {
     "name": "stderr",
     "output_type": "stream",
     "text": [
      "c:\\Users\\David-Daniel\\anaconda3\\lib\\site-packages\\pandas\\core\\generic.py:6392: SettingWithCopyWarning: \n",
      "A value is trying to be set on a copy of a slice from a DataFrame\n",
      "\n",
      "See the caveats in the documentation: https://pandas.pydata.org/pandas-docs/stable/user_guide/indexing.html#returning-a-view-versus-a-copy\n",
      "  return self._update_inplace(result)\n"
     ]
    }
   ],
   "source": [
    "train = Processing().fit_transform(train)\n",
    "test = Processing().fit_transform(test)\n",
    "\n"
   ]
  },
  {
   "cell_type": "code",
   "execution_count": 122,
   "metadata": {},
   "outputs": [
    {
     "data": {
      "text/plain": [
       "VehicleID                    0\n",
       "Location                     0\n",
       "Maker                        0\n",
       "Model                        0\n",
       "Year                         0\n",
       "Colour                       0\n",
       "Amount (Million Naira)    2061\n",
       "Type                         0\n",
       "Distance                     0\n",
       "data                         0\n",
       "maker_location               0\n",
       "Model_name                   0\n",
       "Model_year                   0\n",
       "dtype: int64"
      ]
     },
     "execution_count": 122,
     "metadata": {},
     "output_type": "execute_result"
    }
   ],
   "source": [
    "train.isnull().sum(), test.isnull().sum()\n",
    "\n",
    "data = pd.concat([train, test], ignore_index=True)\n",
    "\n",
    "data.isnull().sum()"
   ]
  },
  {
   "cell_type": "markdown",
   "metadata": {
    "jp-MarkdownHeadingCollapsed": true,
    "tags": []
   },
   "source": [
    "### **Visualizations**"
   ]
  },
  {
   "cell_type": "markdown",
   "metadata": {
    "jp-MarkdownHeadingCollapsed": true,
    "tags": []
   },
   "source": [
    "#### **Distance Distribution**"
   ]
  },
  {
   "cell_type": "code",
   "execution_count": 123,
   "metadata": {},
   "outputs": [
    {
     "data": {
      "text/plain": [
       "<AxesSubplot:xlabel='Distance', ylabel='Count'>"
      ]
     },
     "execution_count": 123,
     "metadata": {},
     "output_type": "execute_result"
    },
    {
     "data": {
      "image/png": "[encoded data removed]",
      "text/plain": [
       "<Figure size 720x576 with 1 Axes>"
      ]
     },
     "metadata": {},
     "output_type": "display_data"
    }
   ],
   "source": [
    "plt.figure(figsize=(10, 8))\n",
    "sns.histplot(data=data,\n",
    "             x=\"Distance\", bins=50)\n"
   ]
  },
  {
   "cell_type": "markdown",
   "metadata": {
    "jp-MarkdownHeadingCollapsed": true,
    "tags": []
   },
   "source": [
    "#### **Distance density across different locations**"
   ]
  },
  {
   "cell_type": "code",
   "execution_count": 124,
   "metadata": {},
   "outputs": [
    {
     "data": {
      "text/plain": [
       "<AxesSubplot:xlabel='Distance', ylabel='Density'>"
      ]
     },
     "execution_count": 124,
     "metadata": {},
     "output_type": "execute_result"
    },
    {
     "data": {
      "image/png": "[encoded data removed]",
      "text/plain": [
       "<Figure size 1080x720 with 1 Axes>"
      ]
     },
     "metadata": {},
     "output_type": "display_data"
    }
   ],
   "source": [
    "plt.figure(figsize=(15, 10))\n",
    "sns.kdeplot(np.log(data[\"Distance\"]),\n",
    "            color=\"orange\", shade=True,\n",
    "            hue=data[\"Location\"])\n"
   ]
  },
  {
   "cell_type": "markdown",
   "metadata": {
    "jp-MarkdownHeadingCollapsed": true,
    "tags": []
   },
   "source": [
    "#### **Distance on cars classified by their types**"
   ]
  },
  {
   "cell_type": "code",
   "execution_count": 125,
   "metadata": {},
   "outputs": [
    {
     "data": {
      "text/plain": [
       "<AxesSubplot:xlabel='Type', ylabel='Distance'>"
      ]
     },
     "execution_count": 125,
     "metadata": {},
     "output_type": "execute_result"
    },
    {
     "data": {
      "image/png": "[encoded data removed]",
      "text/plain": [
       "<Figure size 1080x720 with 1 Axes>"
      ]
     },
     "metadata": {},
     "output_type": "display_data"
    }
   ],
   "source": [
    "plt.figure(figsize=(15, 10))\n",
    "sns.barplot(x=\"Type\", y=\"Distance\",\n",
    "            data=data, hue=\"Location\",\n",
    "            hue_order=[\"Ibadan\", \"Lagos\", \"Abuja\"],\n",
    "            palette=\"Blues\")\n"
   ]
  },
  {
   "cell_type": "code",
   "execution_count": 126,
   "metadata": {},
   "outputs": [
    {
     "data": {
      "text/plain": [
       "<AxesSubplot:xlabel='Type', ylabel='Distance'>"
      ]
     },
     "execution_count": 126,
     "metadata": {},
     "output_type": "execute_result"
    },
    {
     "data": {
      "image/png": "[encoded data removed]",
      "text/plain": [
       "<Figure size 1080x720 with 1 Axes>"
      ]
     },
     "metadata": {},
     "output_type": "display_data"
    }
   ],
   "source": [
    "plt.figure(figsize=(15, 10))\n",
    "\n",
    "sns.boxplot(x=\"Type\", y=\"Distance\",\n",
    "            data=data, hue=\"Location\",\n",
    "            hue_order=[\"Ibadan\", \"Lagos\", \"Abuja\"],\n",
    "            palette=\"Blues\")\n"
   ]
  },
  {
   "cell_type": "markdown",
   "metadata": {
    "jp-MarkdownHeadingCollapsed": true,
    "tags": []
   },
   "source": [
    "#### **Price of each car type in each location**"
   ]
  },
  {
   "cell_type": "code",
   "execution_count": 127,
   "metadata": {},
   "outputs": [
    {
     "data": {
      "text/plain": [
       "<AxesSubplot:xlabel='Type', ylabel='Amount (Million Naira)'>"
      ]
     },
     "execution_count": 127,
     "metadata": {},
     "output_type": "execute_result"
    },
    {
     "data": {
      "image/png": "[encoded data removed]",
      "text/plain": [
       "<Figure size 1080x720 with 1 Axes>"
      ]
     },
     "metadata": {},
     "output_type": "display_data"
    }
   ],
   "source": [
    "plt.figure(figsize=(15, 10))\n",
    "\n",
    "sns.boxplot(x=\"Type\", y=\"Amount (Million Naira)\",\n",
    "            data=data, hue=\"Location\",\n",
    "            hue_order=[\"Ibadan\", \"Lagos\", \"Abuja\"],\n",
    "            palette=\"Blues\")\n"
   ]
  },
  {
   "cell_type": "code",
   "execution_count": 128,
   "metadata": {},
   "outputs": [],
   "source": [
    "naija_used = data[data[\"Type\"] == \"Nigerian Used\"]\n",
    "nu_75 = np.nanpercentile(naija_used[\"Amount (Million Naira)\"], 75)"
   ]
  },
  {
   "cell_type": "code",
   "execution_count": 129,
   "metadata": {},
   "outputs": [
    {
     "data": {
      "text/html": [
       "<div>\n",
       "<style scoped>\n",
       "    .dataframe tbody tr th:only-of-type {\n",
       "        vertical-align: middle;\n",
       "    }\n",
       "\n",
       "    .dataframe tbody tr th {\n",
       "        vertical-align: top;\n",
       "    }\n",
       "\n",
       "    .dataframe thead th {\n",
       "        text-align: right;\n",
       "    }\n",
       "</style>\n",
       "<table border=\"1\" class=\"dataframe\">\n",
       "  <thead>\n",
       "    <tr style=\"text-align: right;\">\n",
       "      <th></th>\n",
       "      <th>VehicleID</th>\n",
       "      <th>Location</th>\n",
       "      <th>Maker</th>\n",
       "      <th>Model</th>\n",
       "      <th>Year</th>\n",
       "      <th>Colour</th>\n",
       "      <th>Amount (Million Naira)</th>\n",
       "      <th>Type</th>\n",
       "      <th>Distance</th>\n",
       "      <th>data</th>\n",
       "      <th>maker_location</th>\n",
       "      <th>Model_name</th>\n",
       "      <th>Model_year</th>\n",
       "    </tr>\n",
       "  </thead>\n",
       "  <tbody>\n",
       "    <tr>\n",
       "      <th>0</th>\n",
       "      <td>VHL16048</td>\n",
       "      <td>Abuja</td>\n",
       "      <td>Toyota</td>\n",
       "      <td>Hilux</td>\n",
       "      <td>2020</td>\n",
       "      <td>White</td>\n",
       "      <td>23.00</td>\n",
       "      <td>Brand New</td>\n",
       "      <td>7523.0</td>\n",
       "      <td>train</td>\n",
       "      <td>Japan</td>\n",
       "      <td>Hilux</td>\n",
       "      <td>Hilux 2020</td>\n",
       "    </tr>\n",
       "    <tr>\n",
       "      <th>1</th>\n",
       "      <td>VHL14714</td>\n",
       "      <td>Abuja</td>\n",
       "      <td>Toyota</td>\n",
       "      <td>Hilux</td>\n",
       "      <td>2021</td>\n",
       "      <td>White</td>\n",
       "      <td>23.00</td>\n",
       "      <td>Brand New</td>\n",
       "      <td>100.0</td>\n",
       "      <td>train</td>\n",
       "      <td>Japan</td>\n",
       "      <td>Hilux</td>\n",
       "      <td>Hilux 2020</td>\n",
       "    </tr>\n",
       "    <tr>\n",
       "      <th>2</th>\n",
       "      <td>VHL11970</td>\n",
       "      <td>Lagos</td>\n",
       "      <td>Lexus</td>\n",
       "      <td>LX</td>\n",
       "      <td>2018</td>\n",
       "      <td>Black</td>\n",
       "      <td>52.00</td>\n",
       "      <td>Brand New</td>\n",
       "      <td>1000.0</td>\n",
       "      <td>train</td>\n",
       "      <td>Japan</td>\n",
       "      <td>LX</td>\n",
       "      <td>LX 2020</td>\n",
       "    </tr>\n",
       "    <tr>\n",
       "      <th>3</th>\n",
       "      <td>VHL10039</td>\n",
       "      <td>Abuja</td>\n",
       "      <td>Mercedes-Benz</td>\n",
       "      <td>G-Class G 63 AMG</td>\n",
       "      <td>2021</td>\n",
       "      <td>White</td>\n",
       "      <td>195.00</td>\n",
       "      <td>Brand New</td>\n",
       "      <td>1000.0</td>\n",
       "      <td>train</td>\n",
       "      <td>Germany</td>\n",
       "      <td>G-Class</td>\n",
       "      <td>G-Class G 63 AMG 2020</td>\n",
       "    </tr>\n",
       "    <tr>\n",
       "      <th>4</th>\n",
       "      <td>VHL13623</td>\n",
       "      <td>Abuja</td>\n",
       "      <td>Toyota</td>\n",
       "      <td>RAV4 Limited FWD</td>\n",
       "      <td>2020</td>\n",
       "      <td>Green</td>\n",
       "      <td>27.00</td>\n",
       "      <td>Brand New</td>\n",
       "      <td>854.0</td>\n",
       "      <td>train</td>\n",
       "      <td>Japan</td>\n",
       "      <td>RAV4</td>\n",
       "      <td>RAV4 Limited FWD 2020</td>\n",
       "    </tr>\n",
       "    <tr>\n",
       "      <th>...</th>\n",
       "      <td>...</td>\n",
       "      <td>...</td>\n",
       "      <td>...</td>\n",
       "      <td>...</td>\n",
       "      <td>...</td>\n",
       "      <td>...</td>\n",
       "      <td>...</td>\n",
       "      <td>...</td>\n",
       "      <td>...</td>\n",
       "      <td>...</td>\n",
       "      <td>...</td>\n",
       "      <td>...</td>\n",
       "      <td>...</td>\n",
       "    </tr>\n",
       "    <tr>\n",
       "      <th>7186</th>\n",
       "      <td>VHL10334</td>\n",
       "      <td>Lagos</td>\n",
       "      <td>Lexus</td>\n",
       "      <td>RX 350 AWD</td>\n",
       "      <td>2008</td>\n",
       "      <td>Black</td>\n",
       "      <td>5.06</td>\n",
       "      <td>Nigerian Used</td>\n",
       "      <td>142273.0</td>\n",
       "      <td>train</td>\n",
       "      <td>Japan</td>\n",
       "      <td>RX</td>\n",
       "      <td>RX 350 AWD 2020</td>\n",
       "    </tr>\n",
       "    <tr>\n",
       "      <th>7189</th>\n",
       "      <td>VHL15406</td>\n",
       "      <td>Abuja</td>\n",
       "      <td>Toyota</td>\n",
       "      <td>Land Cruiser 4 V6 GX-R</td>\n",
       "      <td>2015</td>\n",
       "      <td>Black</td>\n",
       "      <td>18.00</td>\n",
       "      <td>Nigerian Used</td>\n",
       "      <td>37088.0</td>\n",
       "      <td>train</td>\n",
       "      <td>Japan</td>\n",
       "      <td>Land</td>\n",
       "      <td>Land Cruiser 4 V6 GX-R 2020</td>\n",
       "    </tr>\n",
       "    <tr>\n",
       "      <th>7190</th>\n",
       "      <td>VHL16827</td>\n",
       "      <td>Abuja</td>\n",
       "      <td>Lexus</td>\n",
       "      <td>RX</td>\n",
       "      <td>2010</td>\n",
       "      <td>Gray</td>\n",
       "      <td>6.40</td>\n",
       "      <td>Nigerian Used</td>\n",
       "      <td>65000.0</td>\n",
       "      <td>train</td>\n",
       "      <td>Japan</td>\n",
       "      <td>RX</td>\n",
       "      <td>RX 2020</td>\n",
       "    </tr>\n",
       "    <tr>\n",
       "      <th>7192</th>\n",
       "      <td>VHL10130</td>\n",
       "      <td>Abuja</td>\n",
       "      <td>Ford</td>\n",
       "      <td>Explorer</td>\n",
       "      <td>2016</td>\n",
       "      <td>Brown</td>\n",
       "      <td>7.50</td>\n",
       "      <td>Nigerian Used</td>\n",
       "      <td>93852.0</td>\n",
       "      <td>train</td>\n",
       "      <td>USA</td>\n",
       "      <td>Explorer</td>\n",
       "      <td>Explorer 2020</td>\n",
       "    </tr>\n",
       "    <tr>\n",
       "      <th>7198</th>\n",
       "      <td>VHL17307</td>\n",
       "      <td>Abuja</td>\n",
       "      <td>BMW</td>\n",
       "      <td>320i SV Premium</td>\n",
       "      <td>2014</td>\n",
       "      <td>Black</td>\n",
       "      <td>6.50</td>\n",
       "      <td>Nigerian Used</td>\n",
       "      <td>112457.5</td>\n",
       "      <td>train</td>\n",
       "      <td>Germany</td>\n",
       "      <td>320i</td>\n",
       "      <td>320i SV Premium 2020</td>\n",
       "    </tr>\n",
       "  </tbody>\n",
       "</table>\n",
       "<p>4162 rows × 13 columns</p>\n",
       "</div>"
      ],
      "text/plain": [
       "     VehicleID Location          Maker                   Model  Year Colour  \\\n",
       "0     VHL16048    Abuja         Toyota                   Hilux  2020  White   \n",
       "1     VHL14714    Abuja         Toyota                   Hilux  2021  White   \n",
       "2     VHL11970    Lagos          Lexus                      LX  2018  Black   \n",
       "3     VHL10039    Abuja  Mercedes-Benz        G-Class G 63 AMG  2021  White   \n",
       "4     VHL13623    Abuja         Toyota        RAV4 Limited FWD  2020  Green   \n",
       "...        ...      ...            ...                     ...   ...    ...   \n",
       "7186  VHL10334    Lagos          Lexus              RX 350 AWD  2008  Black   \n",
       "7189  VHL15406    Abuja         Toyota  Land Cruiser 4 V6 GX-R  2015  Black   \n",
       "7190  VHL16827    Abuja          Lexus                      RX  2010   Gray   \n",
       "7192  VHL10130    Abuja           Ford                Explorer  2016  Brown   \n",
       "7198  VHL17307    Abuja            BMW         320i SV Premium  2014  Black   \n",
       "\n",
       "      Amount (Million Naira)           Type  Distance   data maker_location  \\\n",
       "0                      23.00      Brand New    7523.0  train          Japan   \n",
       "1                      23.00      Brand New     100.0  train          Japan   \n",
       "2                      52.00      Brand New    1000.0  train          Japan   \n",
       "3                     195.00      Brand New    1000.0  train        Germany   \n",
       "4                      27.00      Brand New     854.0  train          Japan   \n",
       "...                      ...            ...       ...    ...            ...   \n",
       "7186                    5.06  Nigerian Used  142273.0  train          Japan   \n",
       "7189                   18.00  Nigerian Used   37088.0  train          Japan   \n",
       "7190                    6.40  Nigerian Used   65000.0  train          Japan   \n",
       "7192                    7.50  Nigerian Used   93852.0  train            USA   \n",
       "7198                    6.50  Nigerian Used  112457.5  train        Germany   \n",
       "\n",
       "     Model_name                   Model_year  \n",
       "0         Hilux                   Hilux 2020  \n",
       "1         Hilux                   Hilux 2020  \n",
       "2            LX                      LX 2020  \n",
       "3       G-Class        G-Class G 63 AMG 2020  \n",
       "4          RAV4        RAV4 Limited FWD 2020  \n",
       "...         ...                          ...  \n",
       "7186         RX              RX 350 AWD 2020  \n",
       "7189       Land  Land Cruiser 4 V6 GX-R 2020  \n",
       "7190         RX                      RX 2020  \n",
       "7192   Explorer                Explorer 2020  \n",
       "7198       320i         320i SV Premium 2020  \n",
       "\n",
       "[4162 rows x 13 columns]"
      ]
     },
     "execution_count": 129,
     "metadata": {},
     "output_type": "execute_result"
    }
   ],
   "source": [
    "data[data[\"Amount (Million Naira)\"] > nu_75]"
   ]
  },
  {
   "cell_type": "markdown",
   "metadata": {
    "jp-MarkdownHeadingCollapsed": true,
    "tags": []
   },
   "source": [
    "#### **Plot of Cars that have their prices above the 75th percentile of the dataset**"
   ]
  },
  {
   "cell_type": "code",
   "execution_count": 130,
   "metadata": {},
   "outputs": [
    {
     "data": {
      "text/plain": [
       "<AxesSubplot:xlabel='Type', ylabel='Amount (Million Naira)'>"
      ]
     },
     "execution_count": 130,
     "metadata": {},
     "output_type": "execute_result"
    },
    {
     "data": {
      "image/png": "[encoded data removed]",
      "text/plain": [
       "<Figure size 1080x720 with 1 Axes>"
      ]
     },
     "metadata": {},
     "output_type": "display_data"
    }
   ],
   "source": [
    "plt.figure(figsize=(15, 10))\n",
    "\n",
    "sns.boxplot(x=\"Type\", y=\"Amount (Million Naira)\",\n",
    "            data=data[data[\"Amount (Million Naira)\"] > nu_75], \n",
    "            hue=\"Location\",\n",
    "            hue_order=[\"Ibadan\", \"Lagos\", \"Abuja\"],\n",
    "            palette=\"Blues\")\n"
   ]
  },
  {
   "cell_type": "markdown",
   "metadata": {
    "jp-MarkdownHeadingCollapsed": true,
    "tags": []
   },
   "source": [
    "#### **Plot of Cars that have their prices above the 75th percentile of the dataset (Brand New Cars)**"
   ]
  },
  {
   "cell_type": "code",
   "execution_count": 131,
   "metadata": {},
   "outputs": [
    {
     "data": {
      "text/plain": [
       "<AxesSubplot:xlabel='Type', ylabel='Amount (Million Naira)'>"
      ]
     },
     "execution_count": 131,
     "metadata": {},
     "output_type": "execute_result"
    },
    {
     "data": {
      "image/png": "[encoded data removed]",
      "text/plain": [
       "<Figure size 1080x720 with 1 Axes>"
      ]
     },
     "metadata": {},
     "output_type": "display_data"
    }
   ],
   "source": [
    "\n",
    "plt.figure(figsize=(15, 10))\n",
    "\n",
    "sns.boxplot(x=\"Type\", y=\"Amount (Million Naira)\",\n",
    "            data=data[(data[\"Amount (Million Naira)\"] > nu_75)\n",
    "                      & (data[\"Type\"] == \"Brand New\")],\n",
    "            hue=\"Location\",\n",
    "            hue_order=[\"Ibadan\", \"Lagos\", \"Abuja\"],\n",
    "            palette=\"Blues\")\n"
   ]
  },
  {
   "cell_type": "markdown",
   "metadata": {
    "jp-MarkdownHeadingCollapsed": true,
    "tags": []
   },
   "source": [
    "#### **Plot of Cars that have their prices above the 75th percentile of the dataset (Nigerian Used Cars)**"
   ]
  },
  {
   "cell_type": "code",
   "execution_count": 132,
   "metadata": {},
   "outputs": [
    {
     "data": {
      "text/plain": [
       "<AxesSubplot:xlabel='Type', ylabel='Amount (Million Naira)'>"
      ]
     },
     "execution_count": 132,
     "metadata": {},
     "output_type": "execute_result"
    },
    {
     "data": {
      "image/png": "[encoded data removed]",
      "text/plain": [
       "<Figure size 1080x720 with 1 Axes>"
      ]
     },
     "metadata": {},
     "output_type": "display_data"
    }
   ],
   "source": [
    "\n",
    "plt.figure(figsize=(15, 10))\n",
    "\n",
    "sns.boxplot(x=\"Type\", y=\"Amount (Million Naira)\",\n",
    "            data=data[(data[\"Amount (Million Naira)\"] > nu_75)\n",
    "                      & (data[\"Type\"] == \"Nigerian Used\")],\n",
    "            hue=\"Location\",\n",
    "            hue_order=[\"Ibadan\", \"Lagos\", \"Abuja\"],\n",
    "            palette=\"Blues\")\n"
   ]
  },
  {
   "cell_type": "markdown",
   "metadata": {
    "jp-MarkdownHeadingCollapsed": true,
    "tags": []
   },
   "source": [
    "#### **Plot of Cars that have their prices above the 75th percentile of the dataset (Foreign Used Cars)**"
   ]
  },
  {
   "cell_type": "code",
   "execution_count": 133,
   "metadata": {},
   "outputs": [
    {
     "data": {
      "text/plain": [
       "<AxesSubplot:xlabel='Type', ylabel='Amount (Million Naira)'>"
      ]
     },
     "execution_count": 133,
     "metadata": {},
     "output_type": "execute_result"
    },
    {
     "data": {
      "image/png": "[encoded data removed]",
      "text/plain": [
       "<Figure size 1080x720 with 1 Axes>"
      ]
     },
     "metadata": {},
     "output_type": "display_data"
    }
   ],
   "source": [
    "\n",
    "plt.figure(figsize=(15, 10))\n",
    "\n",
    "sns.boxplot(x=\"Type\", y=\"Amount (Million Naira)\",\n",
    "            data=data[(data[\"Amount (Million Naira)\"] > nu_75)\n",
    "                      & (data[\"Type\"] == \"Foreign Used\")],\n",
    "            hue=\"Location\",\n",
    "            hue_order=[\"Ibadan\", \"Lagos\", \"Abuja\"],\n",
    "            palette=\"Blues\")\n"
   ]
  },
  {
   "cell_type": "code",
   "execution_count": 134,
   "metadata": {},
   "outputs": [
    {
     "data": {
      "text/html": [
       "<div>\n",
       "<style scoped>\n",
       "    .dataframe tbody tr th:only-of-type {\n",
       "        vertical-align: middle;\n",
       "    }\n",
       "\n",
       "    .dataframe tbody tr th {\n",
       "        vertical-align: top;\n",
       "    }\n",
       "\n",
       "    .dataframe thead th {\n",
       "        text-align: right;\n",
       "    }\n",
       "</style>\n",
       "<table border=\"1\" class=\"dataframe\">\n",
       "  <thead>\n",
       "    <tr style=\"text-align: right;\">\n",
       "      <th></th>\n",
       "      <th>Year</th>\n",
       "      <th>Amount (Million Naira)</th>\n",
       "      <th>Distance</th>\n",
       "    </tr>\n",
       "  </thead>\n",
       "  <tbody>\n",
       "    <tr>\n",
       "      <th>count</th>\n",
       "      <td>1860.000000</td>\n",
       "      <td>1860.000000</td>\n",
       "      <td>1860.000000</td>\n",
       "    </tr>\n",
       "    <tr>\n",
       "      <th>mean</th>\n",
       "      <td>2014.883871</td>\n",
       "      <td>23.389317</td>\n",
       "      <td>62180.191935</td>\n",
       "    </tr>\n",
       "    <tr>\n",
       "      <th>std</th>\n",
       "      <td>3.734816</td>\n",
       "      <td>44.279232</td>\n",
       "      <td>43173.406573</td>\n",
       "    </tr>\n",
       "    <tr>\n",
       "      <th>min</th>\n",
       "      <td>2000.000000</td>\n",
       "      <td>4.850000</td>\n",
       "      <td>3.000000</td>\n",
       "    </tr>\n",
       "    <tr>\n",
       "      <th>25%</th>\n",
       "      <td>2012.000000</td>\n",
       "      <td>6.700000</td>\n",
       "      <td>38000.000000</td>\n",
       "    </tr>\n",
       "    <tr>\n",
       "      <th>50%</th>\n",
       "      <td>2015.000000</td>\n",
       "      <td>11.000000</td>\n",
       "      <td>70000.000000</td>\n",
       "    </tr>\n",
       "    <tr>\n",
       "      <th>75%</th>\n",
       "      <td>2018.000000</td>\n",
       "      <td>20.500000</td>\n",
       "      <td>74000.000000</td>\n",
       "    </tr>\n",
       "    <tr>\n",
       "      <th>max</th>\n",
       "      <td>2022.000000</td>\n",
       "      <td>456.000000</td>\n",
       "      <td>925343.000000</td>\n",
       "    </tr>\n",
       "  </tbody>\n",
       "</table>\n",
       "</div>"
      ],
      "text/plain": [
       "              Year  Amount (Million Naira)       Distance\n",
       "count  1860.000000             1860.000000    1860.000000\n",
       "mean   2014.883871               23.389317   62180.191935\n",
       "std       3.734816               44.279232   43173.406573\n",
       "min    2000.000000                4.850000       3.000000\n",
       "25%    2012.000000                6.700000   38000.000000\n",
       "50%    2015.000000               11.000000   70000.000000\n",
       "75%    2018.000000               20.500000   74000.000000\n",
       "max    2022.000000              456.000000  925343.000000"
      ]
     },
     "execution_count": 134,
     "metadata": {},
     "output_type": "execute_result"
    }
   ],
   "source": [
    "data[(data[\"Amount (Million Naira)\"] > nu_75) & (data[\"Location\"] == \"Abuja\")].describe()\n"
   ]
  },
  {
   "cell_type": "code",
   "execution_count": 135,
   "metadata": {},
   "outputs": [
    {
     "data": {
      "text/html": [
       "<div>\n",
       "<style scoped>\n",
       "    .dataframe tbody tr th:only-of-type {\n",
       "        vertical-align: middle;\n",
       "    }\n",
       "\n",
       "    .dataframe tbody tr th {\n",
       "        vertical-align: top;\n",
       "    }\n",
       "\n",
       "    .dataframe thead th {\n",
       "        text-align: right;\n",
       "    }\n",
       "</style>\n",
       "<table border=\"1\" class=\"dataframe\">\n",
       "  <thead>\n",
       "    <tr style=\"text-align: right;\">\n",
       "      <th></th>\n",
       "      <th>Year</th>\n",
       "      <th>Amount (Million Naira)</th>\n",
       "      <th>Distance</th>\n",
       "    </tr>\n",
       "  </thead>\n",
       "  <tbody>\n",
       "    <tr>\n",
       "      <th>count</th>\n",
       "      <td>2130.000000</td>\n",
       "      <td>2130.000000</td>\n",
       "      <td>2.130000e+03</td>\n",
       "    </tr>\n",
       "    <tr>\n",
       "      <th>mean</th>\n",
       "      <td>2012.835211</td>\n",
       "      <td>14.476000</td>\n",
       "      <td>8.117519e+04</td>\n",
       "    </tr>\n",
       "    <tr>\n",
       "      <th>std</th>\n",
       "      <td>3.802125</td>\n",
       "      <td>14.714013</td>\n",
       "      <td>9.569299e+04</td>\n",
       "    </tr>\n",
       "    <tr>\n",
       "      <th>min</th>\n",
       "      <td>2003.000000</td>\n",
       "      <td>4.830000</td>\n",
       "      <td>1.000000e+00</td>\n",
       "    </tr>\n",
       "    <tr>\n",
       "      <th>25%</th>\n",
       "      <td>2010.000000</td>\n",
       "      <td>6.500000</td>\n",
       "      <td>5.985125e+04</td>\n",
       "    </tr>\n",
       "    <tr>\n",
       "      <th>50%</th>\n",
       "      <td>2013.000000</td>\n",
       "      <td>9.500000</td>\n",
       "      <td>7.400000e+04</td>\n",
       "    </tr>\n",
       "    <tr>\n",
       "      <th>75%</th>\n",
       "      <td>2016.000000</td>\n",
       "      <td>16.500000</td>\n",
       "      <td>7.800000e+04</td>\n",
       "    </tr>\n",
       "    <tr>\n",
       "      <th>max</th>\n",
       "      <td>2021.000000</td>\n",
       "      <td>175.000000</td>\n",
       "      <td>1.284898e+06</td>\n",
       "    </tr>\n",
       "  </tbody>\n",
       "</table>\n",
       "</div>"
      ],
      "text/plain": [
       "              Year  Amount (Million Naira)      Distance\n",
       "count  2130.000000             2130.000000  2.130000e+03\n",
       "mean   2012.835211               14.476000  8.117519e+04\n",
       "std       3.802125               14.714013  9.569299e+04\n",
       "min    2003.000000                4.830000  1.000000e+00\n",
       "25%    2010.000000                6.500000  5.985125e+04\n",
       "50%    2013.000000                9.500000  7.400000e+04\n",
       "75%    2016.000000               16.500000  7.800000e+04\n",
       "max    2021.000000              175.000000  1.284898e+06"
      ]
     },
     "execution_count": 135,
     "metadata": {},
     "output_type": "execute_result"
    }
   ],
   "source": [
    "data[(data[\"Amount (Million Naira)\"] > nu_75) & (data[\"Location\"] == \"Lagos\")].describe()"
   ]
  },
  {
   "cell_type": "code",
   "execution_count": 136,
   "metadata": {},
   "outputs": [
    {
     "data": {
      "text/html": [
       "<div>\n",
       "<style scoped>\n",
       "    .dataframe tbody tr th:only-of-type {\n",
       "        vertical-align: middle;\n",
       "    }\n",
       "\n",
       "    .dataframe tbody tr th {\n",
       "        vertical-align: top;\n",
       "    }\n",
       "\n",
       "    .dataframe thead th {\n",
       "        text-align: right;\n",
       "    }\n",
       "</style>\n",
       "<table border=\"1\" class=\"dataframe\">\n",
       "  <thead>\n",
       "    <tr style=\"text-align: right;\">\n",
       "      <th></th>\n",
       "      <th>Year</th>\n",
       "      <th>Amount (Million Naira)</th>\n",
       "      <th>Distance</th>\n",
       "    </tr>\n",
       "  </thead>\n",
       "  <tbody>\n",
       "    <tr>\n",
       "      <th>count</th>\n",
       "      <td>172.000000</td>\n",
       "      <td>172.000000</td>\n",
       "      <td>172.000000</td>\n",
       "    </tr>\n",
       "    <tr>\n",
       "      <th>mean</th>\n",
       "      <td>2012.046512</td>\n",
       "      <td>8.274360</td>\n",
       "      <td>88927.613372</td>\n",
       "    </tr>\n",
       "    <tr>\n",
       "      <th>std</th>\n",
       "      <td>3.386962</td>\n",
       "      <td>3.579608</td>\n",
       "      <td>55131.141665</td>\n",
       "    </tr>\n",
       "    <tr>\n",
       "      <th>min</th>\n",
       "      <td>2004.000000</td>\n",
       "      <td>4.850000</td>\n",
       "      <td>3000.000000</td>\n",
       "    </tr>\n",
       "    <tr>\n",
       "      <th>25%</th>\n",
       "      <td>2010.000000</td>\n",
       "      <td>5.787500</td>\n",
       "      <td>68000.000000</td>\n",
       "    </tr>\n",
       "    <tr>\n",
       "      <th>50%</th>\n",
       "      <td>2012.000000</td>\n",
       "      <td>6.775000</td>\n",
       "      <td>74000.000000</td>\n",
       "    </tr>\n",
       "    <tr>\n",
       "      <th>75%</th>\n",
       "      <td>2015.000000</td>\n",
       "      <td>9.645000</td>\n",
       "      <td>99250.000000</td>\n",
       "    </tr>\n",
       "    <tr>\n",
       "      <th>max</th>\n",
       "      <td>2020.000000</td>\n",
       "      <td>22.000000</td>\n",
       "      <td>471102.000000</td>\n",
       "    </tr>\n",
       "  </tbody>\n",
       "</table>\n",
       "</div>"
      ],
      "text/plain": [
       "              Year  Amount (Million Naira)       Distance\n",
       "count   172.000000              172.000000     172.000000\n",
       "mean   2012.046512                8.274360   88927.613372\n",
       "std       3.386962                3.579608   55131.141665\n",
       "min    2004.000000                4.850000    3000.000000\n",
       "25%    2010.000000                5.787500   68000.000000\n",
       "50%    2012.000000                6.775000   74000.000000\n",
       "75%    2015.000000                9.645000   99250.000000\n",
       "max    2020.000000               22.000000  471102.000000"
      ]
     },
     "execution_count": 136,
     "metadata": {},
     "output_type": "execute_result"
    }
   ],
   "source": [
    "data[(data[\"Amount (Million Naira)\"] > nu_75) & (data[\"Location\"] == \"Ibadan\")].describe()\n"
   ]
  },
  {
   "cell_type": "code",
   "execution_count": 137,
   "metadata": {},
   "outputs": [
    {
     "data": {
      "text/html": [
       "<div>\n",
       "<style scoped>\n",
       "    .dataframe tbody tr th:only-of-type {\n",
       "        vertical-align: middle;\n",
       "    }\n",
       "\n",
       "    .dataframe tbody tr th {\n",
       "        vertical-align: top;\n",
       "    }\n",
       "\n",
       "    .dataframe thead th {\n",
       "        text-align: right;\n",
       "    }\n",
       "</style>\n",
       "<table border=\"1\" class=\"dataframe\">\n",
       "  <thead>\n",
       "    <tr style=\"text-align: right;\">\n",
       "      <th></th>\n",
       "      <th>Year</th>\n",
       "      <th>Amount (Million Naira)</th>\n",
       "      <th>Distance</th>\n",
       "    </tr>\n",
       "  </thead>\n",
       "  <tbody>\n",
       "    <tr>\n",
       "      <th>count</th>\n",
       "      <td>297.000000</td>\n",
       "      <td>226.000000</td>\n",
       "      <td>297.00000</td>\n",
       "    </tr>\n",
       "    <tr>\n",
       "      <th>mean</th>\n",
       "      <td>2019.673401</td>\n",
       "      <td>83.026460</td>\n",
       "      <td>8181.96633</td>\n",
       "    </tr>\n",
       "    <tr>\n",
       "      <th>std</th>\n",
       "      <td>3.258730</td>\n",
       "      <td>95.697261</td>\n",
       "      <td>34623.72284</td>\n",
       "    </tr>\n",
       "    <tr>\n",
       "      <th>min</th>\n",
       "      <td>1995.000000</td>\n",
       "      <td>1.150000</td>\n",
       "      <td>3.00000</td>\n",
       "    </tr>\n",
       "    <tr>\n",
       "      <th>25%</th>\n",
       "      <td>2020.000000</td>\n",
       "      <td>27.000000</td>\n",
       "      <td>700.00000</td>\n",
       "    </tr>\n",
       "    <tr>\n",
       "      <th>50%</th>\n",
       "      <td>2021.000000</td>\n",
       "      <td>48.500000</td>\n",
       "      <td>1000.00000</td>\n",
       "    </tr>\n",
       "    <tr>\n",
       "      <th>75%</th>\n",
       "      <td>2021.000000</td>\n",
       "      <td>95.000000</td>\n",
       "      <td>1024.00000</td>\n",
       "    </tr>\n",
       "    <tr>\n",
       "      <th>max</th>\n",
       "      <td>2022.000000</td>\n",
       "      <td>456.000000</td>\n",
       "      <td>337469.00000</td>\n",
       "    </tr>\n",
       "  </tbody>\n",
       "</table>\n",
       "</div>"
      ],
      "text/plain": [
       "              Year  Amount (Million Naira)      Distance\n",
       "count   297.000000              226.000000     297.00000\n",
       "mean   2019.673401               83.026460    8181.96633\n",
       "std       3.258730               95.697261   34623.72284\n",
       "min    1995.000000                1.150000       3.00000\n",
       "25%    2020.000000               27.000000     700.00000\n",
       "50%    2021.000000               48.500000    1000.00000\n",
       "75%    2021.000000               95.000000    1024.00000\n",
       "max    2022.000000              456.000000  337469.00000"
      ]
     },
     "execution_count": 137,
     "metadata": {},
     "output_type": "execute_result"
    }
   ],
   "source": [
    "data[data[\"Type\"] == \"Brand New\"].describe()\n"
   ]
  },
  {
   "cell_type": "code",
   "execution_count": 138,
   "metadata": {},
   "outputs": [
    {
     "data": {
      "text/html": [
       "<div>\n",
       "<style scoped>\n",
       "    .dataframe tbody tr th:only-of-type {\n",
       "        vertical-align: middle;\n",
       "    }\n",
       "\n",
       "    .dataframe tbody tr th {\n",
       "        vertical-align: top;\n",
       "    }\n",
       "\n",
       "    .dataframe thead th {\n",
       "        text-align: right;\n",
       "    }\n",
       "</style>\n",
       "<table border=\"1\" class=\"dataframe\">\n",
       "  <thead>\n",
       "    <tr style=\"text-align: right;\">\n",
       "      <th></th>\n",
       "      <th>Year</th>\n",
       "      <th>Amount (Million Naira)</th>\n",
       "      <th>Distance</th>\n",
       "    </tr>\n",
       "  </thead>\n",
       "  <tbody>\n",
       "    <tr>\n",
       "      <th>count</th>\n",
       "      <td>6457.000000</td>\n",
       "      <td>5034.000000</td>\n",
       "      <td>6.457000e+03</td>\n",
       "    </tr>\n",
       "    <tr>\n",
       "      <th>mean</th>\n",
       "      <td>2011.563574</td>\n",
       "      <td>11.424913</td>\n",
       "      <td>8.472042e+04</td>\n",
       "    </tr>\n",
       "    <tr>\n",
       "      <th>std</th>\n",
       "      <td>4.465206</td>\n",
       "      <td>15.594693</td>\n",
       "      <td>8.675325e+04</td>\n",
       "    </tr>\n",
       "    <tr>\n",
       "      <th>min</th>\n",
       "      <td>1986.000000</td>\n",
       "      <td>0.910000</td>\n",
       "      <td>1.000000e+00</td>\n",
       "    </tr>\n",
       "    <tr>\n",
       "      <th>25%</th>\n",
       "      <td>2008.000000</td>\n",
       "      <td>4.500000</td>\n",
       "      <td>6.211100e+04</td>\n",
       "    </tr>\n",
       "    <tr>\n",
       "      <th>50%</th>\n",
       "      <td>2011.000000</td>\n",
       "      <td>6.800000</td>\n",
       "      <td>7.400000e+04</td>\n",
       "    </tr>\n",
       "    <tr>\n",
       "      <th>75%</th>\n",
       "      <td>2015.000000</td>\n",
       "      <td>13.000000</td>\n",
       "      <td>8.500000e+04</td>\n",
       "    </tr>\n",
       "    <tr>\n",
       "      <th>max</th>\n",
       "      <td>2022.000000</td>\n",
       "      <td>380.000000</td>\n",
       "      <td>1.284898e+06</td>\n",
       "    </tr>\n",
       "  </tbody>\n",
       "</table>\n",
       "</div>"
      ],
      "text/plain": [
       "              Year  Amount (Million Naira)      Distance\n",
       "count  6457.000000             5034.000000  6.457000e+03\n",
       "mean   2011.563574               11.424913  8.472042e+04\n",
       "std       4.465206               15.594693  8.675325e+04\n",
       "min    1986.000000                0.910000  1.000000e+00\n",
       "25%    2008.000000                4.500000  6.211100e+04\n",
       "50%    2011.000000                6.800000  7.400000e+04\n",
       "75%    2015.000000               13.000000  8.500000e+04\n",
       "max    2022.000000              380.000000  1.284898e+06"
      ]
     },
     "execution_count": 138,
     "metadata": {},
     "output_type": "execute_result"
    }
   ],
   "source": [
    "data[data[\"Type\"] == \"Foreign Used\"].describe()\n"
   ]
  },
  {
   "cell_type": "code",
   "execution_count": 139,
   "metadata": {},
   "outputs": [
    {
     "data": {
      "text/html": [
       "<div>\n",
       "<style scoped>\n",
       "    .dataframe tbody tr th:only-of-type {\n",
       "        vertical-align: middle;\n",
       "    }\n",
       "\n",
       "    .dataframe tbody tr th {\n",
       "        vertical-align: top;\n",
       "    }\n",
       "\n",
       "    .dataframe thead th {\n",
       "        text-align: right;\n",
       "    }\n",
       "</style>\n",
       "<table border=\"1\" class=\"dataframe\">\n",
       "  <thead>\n",
       "    <tr style=\"text-align: right;\">\n",
       "      <th></th>\n",
       "      <th>Year</th>\n",
       "      <th>Amount (Million Naira)</th>\n",
       "      <th>Distance</th>\n",
       "    </tr>\n",
       "  </thead>\n",
       "  <tbody>\n",
       "    <tr>\n",
       "      <th>count</th>\n",
       "      <td>2512.000000</td>\n",
       "      <td>1945.000000</td>\n",
       "      <td>2.512000e+03</td>\n",
       "    </tr>\n",
       "    <tr>\n",
       "      <th>mean</th>\n",
       "      <td>2008.682723</td>\n",
       "      <td>4.618242</td>\n",
       "      <td>1.346987e+05</td>\n",
       "    </tr>\n",
       "    <tr>\n",
       "      <th>std</th>\n",
       "      <td>4.473121</td>\n",
       "      <td>6.242628</td>\n",
       "      <td>1.098811e+05</td>\n",
       "    </tr>\n",
       "    <tr>\n",
       "      <th>min</th>\n",
       "      <td>1979.000000</td>\n",
       "      <td>0.450000</td>\n",
       "      <td>1.000000e+00</td>\n",
       "    </tr>\n",
       "    <tr>\n",
       "      <th>25%</th>\n",
       "      <td>2006.000000</td>\n",
       "      <td>1.980000</td>\n",
       "      <td>9.512600e+04</td>\n",
       "    </tr>\n",
       "    <tr>\n",
       "      <th>50%</th>\n",
       "      <td>2008.000000</td>\n",
       "      <td>3.000000</td>\n",
       "      <td>1.124575e+05</td>\n",
       "    </tr>\n",
       "    <tr>\n",
       "      <th>75%</th>\n",
       "      <td>2012.000000</td>\n",
       "      <td>4.800000</td>\n",
       "      <td>1.375368e+05</td>\n",
       "    </tr>\n",
       "    <tr>\n",
       "      <th>max</th>\n",
       "      <td>2021.000000</td>\n",
       "      <td>135.000000</td>\n",
       "      <td>1.985400e+06</td>\n",
       "    </tr>\n",
       "  </tbody>\n",
       "</table>\n",
       "</div>"
      ],
      "text/plain": [
       "              Year  Amount (Million Naira)      Distance\n",
       "count  2512.000000             1945.000000  2.512000e+03\n",
       "mean   2008.682723                4.618242  1.346987e+05\n",
       "std       4.473121                6.242628  1.098811e+05\n",
       "min    1979.000000                0.450000  1.000000e+00\n",
       "25%    2006.000000                1.980000  9.512600e+04\n",
       "50%    2008.000000                3.000000  1.124575e+05\n",
       "75%    2012.000000                4.800000  1.375368e+05\n",
       "max    2021.000000              135.000000  1.985400e+06"
      ]
     },
     "execution_count": 139,
     "metadata": {},
     "output_type": "execute_result"
    }
   ],
   "source": [
    "data[data[\"Type\"] == \"Nigerian Used\"].describe()\n"
   ]
  },
  {
   "cell_type": "markdown",
   "metadata": {
    "jp-MarkdownHeadingCollapsed": true,
    "tags": []
   },
   "source": [
    "#### **Total Number of Cars per Type**"
   ]
  },
  {
   "cell_type": "code",
   "execution_count": 140,
   "metadata": {},
   "outputs": [
    {
     "data": {
      "text/plain": [
       "<AxesSubplot:xlabel='Type', ylabel='count'>"
      ]
     },
     "execution_count": 140,
     "metadata": {},
     "output_type": "execute_result"
    },
    {
     "data": {
      "image/png": "[encoded data removed]",
      "text/plain": [
       "<Figure size 1080x720 with 1 Axes>"
      ]
     },
     "metadata": {},
     "output_type": "display_data"
    }
   ],
   "source": [
    "plt.figure(figsize=(15, 10))\n",
    "\n",
    "sns.countplot(x=\"Type\", data=data, hue=\"Location\")\n"
   ]
  },
  {
   "cell_type": "markdown",
   "metadata": {
    "jp-MarkdownHeadingCollapsed": true,
    "tags": []
   },
   "source": [
    "#### **Car Distance by Location and Type**"
   ]
  },
  {
   "cell_type": "code",
   "execution_count": 141,
   "metadata": {},
   "outputs": [
    {
     "data": {
      "text/plain": [
       "<AxesSubplot:xlabel='Location', ylabel='Distance'>"
      ]
     },
     "execution_count": 141,
     "metadata": {},
     "output_type": "execute_result"
    },
    {
     "data": {
      "image/png": "[encoded data removed]",
      "text/plain": [
       "<Figure size 1080x720 with 1 Axes>"
      ]
     },
     "metadata": {},
     "output_type": "display_data"
    }
   ],
   "source": [
    "plt.figure(figsize=(15, 10))\n",
    "sns.lineplot(\n",
    "    x=\"Location\", y=\"Distance\",\n",
    "    data=data, hue=\"Type\",\n",
    "    ci=0\n",
    ")\n"
   ]
  },
  {
   "cell_type": "markdown",
   "metadata": {
    "jp-MarkdownHeadingCollapsed": true,
    "tags": []
   },
   "source": [
    "#### **Prices of Car by Maker Location and Type**"
   ]
  },
  {
   "cell_type": "code",
   "execution_count": 142,
   "metadata": {},
   "outputs": [
    {
     "data": {
      "text/plain": [
       "<AxesSubplot:xlabel='maker_location', ylabel='Amount (Million Naira)'>"
      ]
     },
     "execution_count": 142,
     "metadata": {},
     "output_type": "execute_result"
    },
    {
     "data": {
      "image/png": "[encoded data removed]",
      "text/plain": [
       "<Figure size 1080x720 with 1 Axes>"
      ]
     },
     "metadata": {},
     "output_type": "display_data"
    }
   ],
   "source": [
    "plt.figure(figsize=(15, 10))\n",
    "sns.barplot(\n",
    "    x=\"maker_location\",\n",
    "    y=\"Amount (Million Naira)\",\n",
    "    hue=\"Type\",\n",
    "    data=data\n",
    ")\n"
   ]
  },
  {
   "cell_type": "markdown",
   "metadata": {
    "jp-MarkdownHeadingCollapsed": true,
    "tags": []
   },
   "source": [
    "#### **Total Number of cars per maker location and type**"
   ]
  },
  {
   "cell_type": "code",
   "execution_count": 143,
   "metadata": {},
   "outputs": [
    {
     "data": {
      "text/plain": [
       "<AxesSubplot:xlabel='maker_location', ylabel='count'>"
      ]
     },
     "execution_count": 143,
     "metadata": {},
     "output_type": "execute_result"
    },
    {
     "data": {
      "image/png": "[encoded data removed]",
      "text/plain": [
       "<Figure size 1080x720 with 1 Axes>"
      ]
     },
     "metadata": {},
     "output_type": "display_data"
    }
   ],
   "source": [
    "plt.figure(figsize=(15, 10))\n",
    "sns.countplot(\n",
    "    x=\"maker_location\",\n",
    "    hue=\"Type\",\n",
    "    data=data\n",
    ")\n"
   ]
  },
  {
   "cell_type": "markdown",
   "metadata": {
    "jp-MarkdownHeadingCollapsed": true,
    "tags": []
   },
   "source": [
    "#### **Total Number of Cars per Maker**"
   ]
  },
  {
   "cell_type": "code",
   "execution_count": 144,
   "metadata": {},
   "outputs": [
    {
     "data": {
      "text/plain": [
       "array(['Toyota', 'Lexus', 'Suzuki', 'Mitsubishi', 'Infiniti', 'Nissan',\n",
       "       'Acura', 'Honda', 'Mazda', 'Scion', 'Subaru'], dtype=object)"
      ]
     },
     "execution_count": 144,
     "metadata": {},
     "output_type": "execute_result"
    }
   ],
   "source": [
    "data[data[\"maker_location\"] == \"Japan\"][\"Maker\"].unique()"
   ]
  },
  {
   "cell_type": "code",
   "execution_count": 145,
   "metadata": {},
   "outputs": [
    {
     "data": {
      "text/plain": [
       "<AxesSubplot:xlabel='count', ylabel='Maker'>"
      ]
     },
     "execution_count": 145,
     "metadata": {},
     "output_type": "execute_result"
    },
    {
     "data": {
      "image/png": "[encoded data removed]",
      "text/plain": [
       "<Figure size 720x1440 with 1 Axes>"
      ]
     },
     "metadata": {},
     "output_type": "display_data"
    }
   ],
   "source": [
    "maker_dict = data[\"Maker\"].value_counts().to_dict()\n",
    "maker_list = []\n",
    "for k in maker_dict:\n",
    "    maker_list.append(k)\n",
    "\n",
    "plt.figure(figsize=(10, 20))\n",
    "sns.countplot(y=\"Maker\", data=data, order=maker_list)\n"
   ]
  },
  {
   "cell_type": "markdown",
   "metadata": {
    "jp-MarkdownHeadingCollapsed": true,
    "tags": []
   },
   "source": [
    "## **Preprocessing and Model Selection**"
   ]
  },
  {
   "cell_type": "markdown",
   "metadata": {
    "jp-MarkdownHeadingCollapsed": true,
    "tags": []
   },
   "source": [
    "### **Preprocessing**"
   ]
  },
  {
   "cell_type": "code",
   "execution_count": 146,
   "metadata": {},
   "outputs": [],
   "source": [
    "cat_cols = ['Maker', 'Model', 'Type', \"maker_location\", \"Model_name\"]\n"
   ]
  },
  {
   "cell_type": "code",
   "execution_count": 147,
   "metadata": {},
   "outputs": [],
   "source": [
    "def vectorizer(X, cols):\n",
    "    \n",
    "    df = X.copy()\n",
    "\n",
    "    cv = CountVectorizer(\n",
    "        analyzer=\"char\",\n",
    "        tokenizer=None,\n",
    "        preprocessor=None,\n",
    "        stop_words=None,\n",
    "        max_features=5000,\n",
    "    )\n",
    "\n",
    "    for col in cols:\n",
    "\n",
    "        section = [car for car in data[col]]\n",
    "\n",
    "        cv.fit(section)\n",
    "        arr_vector = cv.transform(section)\n",
    "        arr_vector = arr_vector.toarray()\n",
    "        vocab = cv.vocabulary_\n",
    "        letter_data = pd.DataFrame(arr_vector, columns=vocab)\n",
    "\n",
    "        df = pd.concat([df, letter_data], axis=1)\n",
    "\n",
    "    return df\n"
   ]
  },
  {
   "cell_type": "markdown",
   "metadata": {
    "jp-MarkdownHeadingCollapsed": true,
    "tags": []
   },
   "source": [
    "#### **Vectorization of Important Categorical Features**"
   ]
  },
  {
   "cell_type": "code",
   "execution_count": 148,
   "metadata": {},
   "outputs": [
    {
     "data": {
      "text/html": [
       "<div>\n",
       "<style scoped>\n",
       "    .dataframe tbody tr th:only-of-type {\n",
       "        vertical-align: middle;\n",
       "    }\n",
       "\n",
       "    .dataframe tbody tr th {\n",
       "        vertical-align: top;\n",
       "    }\n",
       "\n",
       "    .dataframe thead th {\n",
       "        text-align: right;\n",
       "    }\n",
       "</style>\n",
       "<table border=\"1\" class=\"dataframe\">\n",
       "  <thead>\n",
       "    <tr style=\"text-align: right;\">\n",
       "      <th></th>\n",
       "      <th>Year</th>\n",
       "      <th>Amount (Million Naira)</th>\n",
       "      <th>Distance</th>\n",
       "      <th>data</th>\n",
       "      <th>t</th>\n",
       "      <th>o</th>\n",
       "      <th>y</th>\n",
       "      <th>a</th>\n",
       "      <th>l</th>\n",
       "      <th>e</th>\n",
       "      <th>...</th>\n",
       "      <th>6</th>\n",
       "      <th>2</th>\n",
       "      <th>j</th>\n",
       "      <th>k</th>\n",
       "      <th>z</th>\n",
       "      <th>9</th>\n",
       "      <th>q</th>\n",
       "      <th>7</th>\n",
       "      <th>8</th>\n",
       "      <th>1</th>\n",
       "    </tr>\n",
       "  </thead>\n",
       "  <tbody>\n",
       "    <tr>\n",
       "      <th>0</th>\n",
       "      <td>2020</td>\n",
       "      <td>23.0</td>\n",
       "      <td>7523.0</td>\n",
       "      <td>train</td>\n",
       "      <td>0</td>\n",
       "      <td>0</td>\n",
       "      <td>1</td>\n",
       "      <td>0</td>\n",
       "      <td>0</td>\n",
       "      <td>0</td>\n",
       "      <td>...</td>\n",
       "      <td>0</td>\n",
       "      <td>0</td>\n",
       "      <td>0</td>\n",
       "      <td>0</td>\n",
       "      <td>1</td>\n",
       "      <td>0</td>\n",
       "      <td>0</td>\n",
       "      <td>1</td>\n",
       "      <td>0</td>\n",
       "      <td>0</td>\n",
       "    </tr>\n",
       "    <tr>\n",
       "      <th>1</th>\n",
       "      <td>2021</td>\n",
       "      <td>23.0</td>\n",
       "      <td>100.0</td>\n",
       "      <td>train</td>\n",
       "      <td>0</td>\n",
       "      <td>0</td>\n",
       "      <td>1</td>\n",
       "      <td>0</td>\n",
       "      <td>0</td>\n",
       "      <td>0</td>\n",
       "      <td>...</td>\n",
       "      <td>0</td>\n",
       "      <td>0</td>\n",
       "      <td>0</td>\n",
       "      <td>0</td>\n",
       "      <td>1</td>\n",
       "      <td>0</td>\n",
       "      <td>0</td>\n",
       "      <td>1</td>\n",
       "      <td>0</td>\n",
       "      <td>0</td>\n",
       "    </tr>\n",
       "    <tr>\n",
       "      <th>2</th>\n",
       "      <td>2018</td>\n",
       "      <td>52.0</td>\n",
       "      <td>1000.0</td>\n",
       "      <td>train</td>\n",
       "      <td>0</td>\n",
       "      <td>0</td>\n",
       "      <td>0</td>\n",
       "      <td>0</td>\n",
       "      <td>0</td>\n",
       "      <td>0</td>\n",
       "      <td>...</td>\n",
       "      <td>0</td>\n",
       "      <td>0</td>\n",
       "      <td>0</td>\n",
       "      <td>0</td>\n",
       "      <td>0</td>\n",
       "      <td>0</td>\n",
       "      <td>0</td>\n",
       "      <td>1</td>\n",
       "      <td>0</td>\n",
       "      <td>0</td>\n",
       "    </tr>\n",
       "    <tr>\n",
       "      <th>3</th>\n",
       "      <td>2021</td>\n",
       "      <td>195.0</td>\n",
       "      <td>1000.0</td>\n",
       "      <td>train</td>\n",
       "      <td>0</td>\n",
       "      <td>1</td>\n",
       "      <td>0</td>\n",
       "      <td>1</td>\n",
       "      <td>1</td>\n",
       "      <td>1</td>\n",
       "      <td>...</td>\n",
       "      <td>0</td>\n",
       "      <td>0</td>\n",
       "      <td>2</td>\n",
       "      <td>0</td>\n",
       "      <td>0</td>\n",
       "      <td>0</td>\n",
       "      <td>0</td>\n",
       "      <td>0</td>\n",
       "      <td>0</td>\n",
       "      <td>0</td>\n",
       "    </tr>\n",
       "    <tr>\n",
       "      <th>4</th>\n",
       "      <td>2020</td>\n",
       "      <td>27.0</td>\n",
       "      <td>854.0</td>\n",
       "      <td>train</td>\n",
       "      <td>0</td>\n",
       "      <td>0</td>\n",
       "      <td>1</td>\n",
       "      <td>0</td>\n",
       "      <td>0</td>\n",
       "      <td>0</td>\n",
       "      <td>...</td>\n",
       "      <td>0</td>\n",
       "      <td>1</td>\n",
       "      <td>0</td>\n",
       "      <td>0</td>\n",
       "      <td>0</td>\n",
       "      <td>1</td>\n",
       "      <td>0</td>\n",
       "      <td>0</td>\n",
       "      <td>0</td>\n",
       "      <td>0</td>\n",
       "    </tr>\n",
       "    <tr>\n",
       "      <th>...</th>\n",
       "      <td>...</td>\n",
       "      <td>...</td>\n",
       "      <td>...</td>\n",
       "      <td>...</td>\n",
       "      <td>...</td>\n",
       "      <td>...</td>\n",
       "      <td>...</td>\n",
       "      <td>...</td>\n",
       "      <td>...</td>\n",
       "      <td>...</td>\n",
       "      <td>...</td>\n",
       "      <td>...</td>\n",
       "      <td>...</td>\n",
       "      <td>...</td>\n",
       "      <td>...</td>\n",
       "      <td>...</td>\n",
       "      <td>...</td>\n",
       "      <td>...</td>\n",
       "      <td>...</td>\n",
       "      <td>...</td>\n",
       "      <td>...</td>\n",
       "    </tr>\n",
       "    <tr>\n",
       "      <th>9261</th>\n",
       "      <td>2009</td>\n",
       "      <td>NaN</td>\n",
       "      <td>138609.0</td>\n",
       "      <td>test</td>\n",
       "      <td>0</td>\n",
       "      <td>0</td>\n",
       "      <td>1</td>\n",
       "      <td>0</td>\n",
       "      <td>0</td>\n",
       "      <td>1</td>\n",
       "      <td>...</td>\n",
       "      <td>0</td>\n",
       "      <td>1</td>\n",
       "      <td>0</td>\n",
       "      <td>0</td>\n",
       "      <td>0</td>\n",
       "      <td>0</td>\n",
       "      <td>0</td>\n",
       "      <td>0</td>\n",
       "      <td>0</td>\n",
       "      <td>0</td>\n",
       "    </tr>\n",
       "    <tr>\n",
       "      <th>9262</th>\n",
       "      <td>2002</td>\n",
       "      <td>NaN</td>\n",
       "      <td>120000.0</td>\n",
       "      <td>test</td>\n",
       "      <td>0</td>\n",
       "      <td>0</td>\n",
       "      <td>1</td>\n",
       "      <td>0</td>\n",
       "      <td>0</td>\n",
       "      <td>0</td>\n",
       "      <td>...</td>\n",
       "      <td>0</td>\n",
       "      <td>1</td>\n",
       "      <td>0</td>\n",
       "      <td>0</td>\n",
       "      <td>0</td>\n",
       "      <td>0</td>\n",
       "      <td>0</td>\n",
       "      <td>0</td>\n",
       "      <td>0</td>\n",
       "      <td>0</td>\n",
       "    </tr>\n",
       "    <tr>\n",
       "      <th>9263</th>\n",
       "      <td>2002</td>\n",
       "      <td>NaN</td>\n",
       "      <td>255895.0</td>\n",
       "      <td>test</td>\n",
       "      <td>0</td>\n",
       "      <td>0</td>\n",
       "      <td>1</td>\n",
       "      <td>0</td>\n",
       "      <td>0</td>\n",
       "      <td>0</td>\n",
       "      <td>...</td>\n",
       "      <td>0</td>\n",
       "      <td>1</td>\n",
       "      <td>0</td>\n",
       "      <td>0</td>\n",
       "      <td>0</td>\n",
       "      <td>0</td>\n",
       "      <td>0</td>\n",
       "      <td>0</td>\n",
       "      <td>0</td>\n",
       "      <td>0</td>\n",
       "    </tr>\n",
       "    <tr>\n",
       "      <th>9264</th>\n",
       "      <td>2007</td>\n",
       "      <td>NaN</td>\n",
       "      <td>107882.0</td>\n",
       "      <td>test</td>\n",
       "      <td>0</td>\n",
       "      <td>0</td>\n",
       "      <td>1</td>\n",
       "      <td>0</td>\n",
       "      <td>0</td>\n",
       "      <td>1</td>\n",
       "      <td>...</td>\n",
       "      <td>0</td>\n",
       "      <td>0</td>\n",
       "      <td>1</td>\n",
       "      <td>1</td>\n",
       "      <td>0</td>\n",
       "      <td>0</td>\n",
       "      <td>0</td>\n",
       "      <td>0</td>\n",
       "      <td>0</td>\n",
       "      <td>0</td>\n",
       "    </tr>\n",
       "    <tr>\n",
       "      <th>9265</th>\n",
       "      <td>2007</td>\n",
       "      <td>NaN</td>\n",
       "      <td>188877.0</td>\n",
       "      <td>test</td>\n",
       "      <td>0</td>\n",
       "      <td>0</td>\n",
       "      <td>1</td>\n",
       "      <td>0</td>\n",
       "      <td>0</td>\n",
       "      <td>0</td>\n",
       "      <td>...</td>\n",
       "      <td>0</td>\n",
       "      <td>1</td>\n",
       "      <td>0</td>\n",
       "      <td>0</td>\n",
       "      <td>0</td>\n",
       "      <td>0</td>\n",
       "      <td>0</td>\n",
       "      <td>0</td>\n",
       "      <td>1</td>\n",
       "      <td>0</td>\n",
       "    </tr>\n",
       "  </tbody>\n",
       "</table>\n",
       "<p>9266 rows × 147 columns</p>\n",
       "</div>"
      ],
      "text/plain": [
       "      Year  Amount (Million Naira)  Distance   data  t  o  y  a  l  e  ...  6  \\\n",
       "0     2020                    23.0    7523.0  train  0  0  1  0  0  0  ...  0   \n",
       "1     2021                    23.0     100.0  train  0  0  1  0  0  0  ...  0   \n",
       "2     2018                    52.0    1000.0  train  0  0  0  0  0  0  ...  0   \n",
       "3     2021                   195.0    1000.0  train  0  1  0  1  1  1  ...  0   \n",
       "4     2020                    27.0     854.0  train  0  0  1  0  0  0  ...  0   \n",
       "...    ...                     ...       ...    ... .. .. .. .. .. ..  ... ..   \n",
       "9261  2009                     NaN  138609.0   test  0  0  1  0  0  1  ...  0   \n",
       "9262  2002                     NaN  120000.0   test  0  0  1  0  0  0  ...  0   \n",
       "9263  2002                     NaN  255895.0   test  0  0  1  0  0  0  ...  0   \n",
       "9264  2007                     NaN  107882.0   test  0  0  1  0  0  1  ...  0   \n",
       "9265  2007                     NaN  188877.0   test  0  0  1  0  0  0  ...  0   \n",
       "\n",
       "      2  j  k  z  9  q  7  8  1  \n",
       "0     0  0  0  1  0  0  1  0  0  \n",
       "1     0  0  0  1  0  0  1  0  0  \n",
       "2     0  0  0  0  0  0  1  0  0  \n",
       "3     0  2  0  0  0  0  0  0  0  \n",
       "4     1  0  0  0  1  0  0  0  0  \n",
       "...  .. .. .. .. .. .. .. .. ..  \n",
       "9261  1  0  0  0  0  0  0  0  0  \n",
       "9262  1  0  0  0  0  0  0  0  0  \n",
       "9263  1  0  0  0  0  0  0  0  0  \n",
       "9264  0  1  1  0  0  0  0  0  0  \n",
       "9265  1  0  0  0  0  0  0  1  0  \n",
       "\n",
       "[9266 rows x 147 columns]"
      ]
     },
     "execution_count": 148,
     "metadata": {},
     "output_type": "execute_result"
    }
   ],
   "source": [
    "data = vectorizer(data, cat_cols)\n",
    "data.drop(cat_cols, axis=1, inplace=True)\n",
    "\n",
    "data.drop([\"Location\", \"Model_year\", \"Colour\",\n",
    "          \"VehicleID\"], axis=1, inplace=True)\n",
    "data\n"
   ]
  },
  {
   "cell_type": "markdown",
   "metadata": {
    "jp-MarkdownHeadingCollapsed": true,
    "tags": []
   },
   "source": [
    "#### **Feature Selection**"
   ]
  },
  {
   "cell_type": "code",
   "execution_count": 149,
   "metadata": {},
   "outputs": [],
   "source": [
    "train = data[data[\"data\"] == \"train\"]\n",
    "test = data[data[\"data\"] == \"test\"]\n"
   ]
  },
  {
   "cell_type": "code",
   "execution_count": 150,
   "metadata": {},
   "outputs": [
    {
     "name": "stderr",
     "output_type": "stream",
     "text": [
      "c:\\Users\\David-Daniel\\anaconda3\\lib\\site-packages\\pandas\\core\\frame.py:4906: SettingWithCopyWarning: \n",
      "A value is trying to be set on a copy of a slice from a DataFrame\n",
      "\n",
      "See the caveats in the documentation: https://pandas.pydata.org/pandas-docs/stable/user_guide/indexing.html#returning-a-view-versus-a-copy\n",
      "  return super().drop(\n"
     ]
    }
   ],
   "source": [
    "for set in (train, test):\n",
    "    set.drop(\"data\", axis=1, inplace=True)\n"
   ]
  },
  {
   "cell_type": "code",
   "execution_count": 152,
   "metadata": {},
   "outputs": [
    {
     "name": "stderr",
     "output_type": "stream",
     "text": [
      "c:\\Users\\David-Daniel\\anaconda3\\lib\\site-packages\\pandas\\core\\frame.py:4906: SettingWithCopyWarning: \n",
      "A value is trying to be set on a copy of a slice from a DataFrame\n",
      "\n",
      "See the caveats in the documentation: https://pandas.pydata.org/pandas-docs/stable/user_guide/indexing.html#returning-a-view-versus-a-copy\n",
      "  return super().drop(\n"
     ]
    }
   ],
   "source": [
    "test.drop(\"Amount (Million Naira)\", inplace=True, axis=1)"
   ]
  },
  {
   "cell_type": "markdown",
   "metadata": {
    "jp-MarkdownHeadingCollapsed": true,
    "tags": []
   },
   "source": [
    "#### **Train Test Splitting**"
   ]
  },
  {
   "cell_type": "code",
   "execution_count": 153,
   "metadata": {},
   "outputs": [],
   "source": [
    "X = train.drop(\"Amount (Million Naira)\", axis=1)\n",
    "y = train[\"Amount (Million Naira)\"]\n"
   ]
  },
  {
   "cell_type": "code",
   "execution_count": 154,
   "metadata": {},
   "outputs": [],
   "source": [
    "X_train, X_test, y_train, y_test = train_test_split(\n",
    "    X, y, test_size=0.2, random_state=42)\n"
   ]
  },
  {
   "cell_type": "markdown",
   "metadata": {
    "jp-MarkdownHeadingCollapsed": true,
    "tags": []
   },
   "source": [
    "#### **Scaling**"
   ]
  },
  {
   "cell_type": "code",
   "execution_count": 155,
   "metadata": {},
   "outputs": [],
   "source": [
    "scaler = StandardScaler()\n",
    "\n",
    "X_train_scaled = scaler.fit_transform(X_train)\n",
    "X_test_scaled = scaler.transform(X_test)\n"
   ]
  },
  {
   "cell_type": "markdown",
   "metadata": {
    "jp-MarkdownHeadingCollapsed": true,
    "tags": []
   },
   "source": [
    "### **Model Selection**"
   ]
  },
  {
   "cell_type": "markdown",
   "metadata": {
    "jp-MarkdownHeadingCollapsed": true,
    "tags": []
   },
   "source": [
    "#### **SVR**"
   ]
  },
  {
   "cell_type": "code",
   "execution_count": 156,
   "metadata": {},
   "outputs": [],
   "source": [
    "svr = SVR()\n",
    "\n",
    "params = {\n",
    "    'kernel': [\"poly\", 'rbf'],\n",
    "    'degree': [2, 3],\n",
    "    'C': [0.1, 0.5, 1.0, 5, 10, 20]\n",
    "}\n",
    "grid_svr = HalvingGridSearchCV(\n",
    "    svr, param_grid=params, scoring=\"neg_mean_squared_error\", cv=3, verbose=1)\n"
   ]
  },
  {
   "cell_type": "code",
   "execution_count": 157,
   "metadata": {},
   "outputs": [
    {
     "name": "stdout",
     "output_type": "stream",
     "text": [
      "n_iterations: 3\n",
      "n_required_iterations: 3\n",
      "n_possible_iterations: 3\n",
      "min_resources_: 640\n",
      "max_resources_: 5764\n",
      "aggressive_elimination: False\n",
      "factor: 3\n",
      "----------\n",
      "iter: 0\n",
      "n_candidates: 24\n",
      "n_resources: 640\n",
      "Fitting 3 folds for each of 24 candidates, totalling 72 fits\n",
      "----------\n",
      "iter: 1\n",
      "n_candidates: 8\n",
      "n_resources: 1920\n",
      "Fitting 3 folds for each of 8 candidates, totalling 24 fits\n",
      "----------\n",
      "iter: 2\n",
      "n_candidates: 3\n",
      "n_resources: 5760\n",
      "Fitting 3 folds for each of 3 candidates, totalling 9 fits\n"
     ]
    },
    {
     "data": {
      "text/plain": [
       "HalvingGridSearchCV(cv=3, estimator=SVR(),\n",
       "                    param_grid={'C': [0.1, 0.5, 1.0, 5, 10, 20],\n",
       "                                'degree': [2, 3], 'kernel': ['poly', 'rbf']},\n",
       "                    scoring='neg_mean_squared_error', verbose=1)"
      ]
     },
     "execution_count": 157,
     "metadata": {},
     "output_type": "execute_result"
    }
   ],
   "source": [
    "grid_svr.fit(X_train_scaled, y_train)\n"
   ]
  },
  {
   "cell_type": "code",
   "execution_count": 158,
   "metadata": {},
   "outputs": [
    {
     "data": {
      "text/plain": [
       "-175.384303463927"
      ]
     },
     "execution_count": 158,
     "metadata": {},
     "output_type": "execute_result"
    }
   ],
   "source": [
    "grid_svr.best_score_\n"
   ]
  },
  {
   "cell_type": "code",
   "execution_count": 159,
   "metadata": {},
   "outputs": [],
   "source": [
    "svr = grid_svr.best_estimator_\n"
   ]
  },
  {
   "cell_type": "markdown",
   "metadata": {
    "jp-MarkdownHeadingCollapsed": true,
    "tags": []
   },
   "source": [
    "#### **Random Forest Regressor**"
   ]
  },
  {
   "cell_type": "code",
   "execution_count": 160,
   "metadata": {},
   "outputs": [],
   "source": [
    "rnd_forest = RandomForestRegressor(random_state=42, oob_score=True)\n",
    "\n",
    "params = {\n",
    "    'n_estimators': [100, 300, 500, 1000, 5000],\n",
    "    'max_depth': [2, 4, 6, 8],\n",
    "    'min_samples_split': [2, 4, 6, 8]\n",
    "}\n",
    "grid_rnd_forest = HalvingGridSearchCV(\n",
    "    rnd_forest, param_grid=params, scoring=\"neg_mean_squared_error\", cv=3, verbose=1)\n"
   ]
  },
  {
   "cell_type": "code",
   "execution_count": 161,
   "metadata": {},
   "outputs": [
    {
     "name": "stdout",
     "output_type": "stream",
     "text": [
      "n_iterations: 4\n",
      "n_required_iterations: 4\n",
      "n_possible_iterations: 4\n",
      "min_resources_: 213\n",
      "max_resources_: 5764\n",
      "aggressive_elimination: False\n",
      "factor: 3\n",
      "----------\n",
      "iter: 0\n",
      "n_candidates: 80\n",
      "n_resources: 213\n",
      "Fitting 3 folds for each of 80 candidates, totalling 240 fits\n",
      "----------\n",
      "iter: 1\n",
      "n_candidates: 27\n",
      "n_resources: 639\n",
      "Fitting 3 folds for each of 27 candidates, totalling 81 fits\n",
      "----------\n",
      "iter: 2\n",
      "n_candidates: 9\n",
      "n_resources: 1917\n",
      "Fitting 3 folds for each of 9 candidates, totalling 27 fits\n",
      "----------\n",
      "iter: 3\n",
      "n_candidates: 3\n",
      "n_resources: 5751\n",
      "Fitting 3 folds for each of 3 candidates, totalling 9 fits\n"
     ]
    },
    {
     "data": {
      "text/plain": [
       "HalvingGridSearchCV(cv=3,\n",
       "                    estimator=RandomForestRegressor(oob_score=True,\n",
       "                                                    random_state=42),\n",
       "                    param_grid={'max_depth': [2, 4, 6, 8],\n",
       "                                'min_samples_split': [2, 4, 6, 8],\n",
       "                                'n_estimators': [100, 300, 500, 1000, 5000]},\n",
       "                    scoring='neg_mean_squared_error', verbose=1)"
      ]
     },
     "execution_count": 161,
     "metadata": {},
     "output_type": "execute_result"
    }
   ],
   "source": [
    "grid_rnd_forest.fit(X_train_scaled, y_train)\n"
   ]
  },
  {
   "cell_type": "code",
   "execution_count": 162,
   "metadata": {},
   "outputs": [
    {
     "data": {
      "text/plain": [
       "-156.63858096116817"
      ]
     },
     "execution_count": 162,
     "metadata": {},
     "output_type": "execute_result"
    }
   ],
   "source": [
    "grid_rnd_forest.best_score_\n"
   ]
  },
  {
   "cell_type": "code",
   "execution_count": 163,
   "metadata": {},
   "outputs": [],
   "source": [
    "rnd_forest = grid_rnd_forest.best_estimator_\n"
   ]
  },
  {
   "cell_type": "markdown",
   "metadata": {
    "jp-MarkdownHeadingCollapsed": true,
    "tags": []
   },
   "source": [
    "#### **Decision Tree Regressor**"
   ]
  },
  {
   "cell_type": "code",
   "execution_count": 164,
   "metadata": {},
   "outputs": [],
   "source": [
    "dec_tree = DecisionTreeRegressor(random_state=42)\n",
    "\n",
    "params = {\n",
    "    \"criterion\": [\"squared_error\", \"friedman_mse\"],\n",
    "    \"min_samples_split\": [x for x in range(1, 101) if x % 2 == 0],\n",
    "    # 'n_estimators': [100, 300, 500, 1000],\n",
    "    'max_depth': [2, 4, 6, 8, 10, 12, 14, 16, 18, 20],\n",
    "}\n",
    "grid_dec_tree = HalvingGridSearchCV(\n",
    "    dec_tree, param_grid=params, scoring=\"neg_mean_squared_error\", cv=3, verbose=1)\n"
   ]
  },
  {
   "cell_type": "code",
   "execution_count": 165,
   "metadata": {},
   "outputs": [
    {
     "name": "stdout",
     "output_type": "stream",
     "text": [
      "n_iterations: 7\n",
      "n_required_iterations: 7\n",
      "n_possible_iterations: 7\n",
      "min_resources_: 7\n",
      "max_resources_: 5764\n",
      "aggressive_elimination: False\n",
      "factor: 3\n",
      "----------\n",
      "iter: 0\n",
      "n_candidates: 1000\n",
      "n_resources: 7\n",
      "Fitting 3 folds for each of 1000 candidates, totalling 3000 fits\n",
      "----------\n",
      "iter: 1\n",
      "n_candidates: 334\n",
      "n_resources: 21\n",
      "Fitting 3 folds for each of 334 candidates, totalling 1002 fits\n",
      "----------\n",
      "iter: 2\n",
      "n_candidates: 112\n",
      "n_resources: 63\n",
      "Fitting 3 folds for each of 112 candidates, totalling 336 fits\n",
      "----------\n",
      "iter: 3\n",
      "n_candidates: 38\n",
      "n_resources: 189\n",
      "Fitting 3 folds for each of 38 candidates, totalling 114 fits\n",
      "----------\n",
      "iter: 4\n",
      "n_candidates: 13\n",
      "n_resources: 567\n",
      "Fitting 3 folds for each of 13 candidates, totalling 39 fits\n",
      "----------\n",
      "iter: 5\n",
      "n_candidates: 5\n",
      "n_resources: 1701\n",
      "Fitting 3 folds for each of 5 candidates, totalling 15 fits\n",
      "----------\n",
      "iter: 6\n",
      "n_candidates: 2\n",
      "n_resources: 5103\n",
      "Fitting 3 folds for each of 2 candidates, totalling 6 fits\n"
     ]
    },
    {
     "data": {
      "text/plain": [
       "HalvingGridSearchCV(cv=3, estimator=DecisionTreeRegressor(random_state=42),\n",
       "                    param_grid={'criterion': ['squared_error', 'friedman_mse'],\n",
       "                                'max_depth': [2, 4, 6, 8, 10, 12, 14, 16, 18,\n",
       "                                              20],\n",
       "                                'min_samples_split': [2, 4, 6, 8, 10, 12, 14,\n",
       "                                                      16, 18, 20, 22, 24, 26,\n",
       "                                                      28, 30, 32, 34, 36, 38,\n",
       "                                                      40, 42, 44, 46, 48, 50,\n",
       "                                                      52, 54, 56, 58, 60, ...]},\n",
       "                    scoring='neg_mean_squared_error', verbose=1)"
      ]
     },
     "execution_count": 165,
     "metadata": {},
     "output_type": "execute_result"
    }
   ],
   "source": [
    "grid_dec_tree.fit(X_train_scaled, y_train)\n"
   ]
  },
  {
   "cell_type": "code",
   "execution_count": 166,
   "metadata": {},
   "outputs": [
    {
     "data": {
      "text/plain": [
       "-234.18141819736738"
      ]
     },
     "execution_count": 166,
     "metadata": {},
     "output_type": "execute_result"
    }
   ],
   "source": [
    "grid_dec_tree.best_score_\n"
   ]
  },
  {
   "cell_type": "code",
   "execution_count": 167,
   "metadata": {},
   "outputs": [
    {
     "data": {
      "text/plain": [
       "DecisionTreeRegressor(max_depth=18, min_samples_split=42, random_state=42)"
      ]
     },
     "execution_count": 167,
     "metadata": {},
     "output_type": "execute_result"
    }
   ],
   "source": [
    "dec_tree = grid_dec_tree.best_estimator_\n",
    "dec_tree\n"
   ]
  },
  {
   "cell_type": "markdown",
   "metadata": {
    "jp-MarkdownHeadingCollapsed": true,
    "tags": []
   },
   "source": [
    "#### **XGBoost Algorithms**"
   ]
  },
  {
   "cell_type": "code",
   "execution_count": 168,
   "metadata": {},
   "outputs": [
    {
     "name": "stdout",
     "output_type": "stream",
     "text": [
      "n_iterations: 3\n",
      "n_required_iterations: 3\n",
      "n_possible_iterations: 3\n",
      "min_resources_: 640\n",
      "max_resources_: 5764\n",
      "aggressive_elimination: False\n",
      "factor: 3\n",
      "----------\n",
      "iter: 0\n",
      "n_candidates: 20\n",
      "n_resources: 640\n",
      "Fitting 3 folds for each of 20 candidates, totalling 60 fits\n",
      "[23:04:29] WARNING: C:/Users/Administrator/workspace/xgboost-win64_release_1.6.0/src/learner.cc:627: \n",
      "Parameters: { \"colsample_bynode\", \"grow_policy\", \"num_parallel_tree\", \"subsample\" } might not be used.\n",
      "\n",
      "  This could be a false alarm, with some parameters getting used by language bindings but\n",
      "  then being mistakenly passed down to XGBoost core, or some parameter actually being used\n",
      "  but getting flagged wrongly here. Please open an issue if you find any such cases.\n",
      "\n",
      "\n",
      "[23:04:29] WARNING: C:/Users/Administrator/workspace/xgboost-win64_release_1.6.0/src/learner.cc:627: \n",
      "Parameters: { \"colsample_bynode\", \"grow_policy\", \"num_parallel_tree\", \"subsample\" } might not be used.\n",
      "\n",
      "  This could be a false alarm, with some parameters getting used by language bindings but\n",
      "  then being mistakenly passed down to XGBoost core, or some parameter actually being used\n",
      "  but getting flagged wrongly here. Please open an issue if you find any such cases.\n",
      "\n",
      "\n",
      "[23:04:29] WARNING: C:/Users/Administrator/workspace/xgboost-win64_release_1.6.0/src/learner.cc:627: \n",
      "Parameters: { \"colsample_bynode\", \"grow_policy\", \"num_parallel_tree\", \"subsample\" } might not be used.\n",
      "\n",
      "  This could be a false alarm, with some parameters getting used by language bindings but\n",
      "  then being mistakenly passed down to XGBoost core, or some parameter actually being used\n",
      "  but getting flagged wrongly here. Please open an issue if you find any such cases.\n",
      "\n",
      "\n",
      "[23:04:29] WARNING: C:/Users/Administrator/workspace/xgboost-win64_release_1.6.0/src/learner.cc:627: \n",
      "Parameters: { \"colsample_bynode\", \"grow_policy\", \"num_parallel_tree\", \"subsample\" } might not be used.\n",
      "\n",
      "  This could be a false alarm, with some parameters getting used by language bindings but\n",
      "  then being mistakenly passed down to XGBoost core, or some parameter actually being used\n",
      "  but getting flagged wrongly here. Please open an issue if you find any such cases.\n",
      "\n",
      "\n",
      "[23:04:29] WARNING: C:/Users/Administrator/workspace/xgboost-win64_release_1.6.0/src/learner.cc:627: \n",
      "Parameters: { \"colsample_bynode\", \"grow_policy\", \"num_parallel_tree\", \"subsample\" } might not be used.\n",
      "\n",
      "  This could be a false alarm, with some parameters getting used by language bindings but\n",
      "  then being mistakenly passed down to XGBoost core, or some parameter actually being used\n",
      "  but getting flagged wrongly here. Please open an issue if you find any such cases.\n",
      "\n",
      "\n",
      "[23:04:29] WARNING: C:/Users/Administrator/workspace/xgboost-win64_release_1.6.0/src/learner.cc:627: \n",
      "Parameters: { \"colsample_bynode\", \"grow_policy\", \"num_parallel_tree\", \"subsample\" } might not be used.\n",
      "\n",
      "  This could be a false alarm, with some parameters getting used by language bindings but\n",
      "  then being mistakenly passed down to XGBoost core, or some parameter actually being used\n",
      "  but getting flagged wrongly here. Please open an issue if you find any such cases.\n",
      "\n",
      "\n",
      "[23:04:29] WARNING: C:/Users/Administrator/workspace/xgboost-win64_release_1.6.0/src/learner.cc:627: \n",
      "Parameters: { \"colsample_bynode\", \"grow_policy\", \"num_parallel_tree\", \"subsample\" } might not be used.\n",
      "\n",
      "  This could be a false alarm, with some parameters getting used by language bindings but\n",
      "  then being mistakenly passed down to XGBoost core, or some parameter actually being used\n",
      "  but getting flagged wrongly here. Please open an issue if you find any such cases.\n",
      "\n",
      "\n",
      "[23:04:29] WARNING: C:/Users/Administrator/workspace/xgboost-win64_release_1.6.0/src/learner.cc:627: \n",
      "Parameters: { \"colsample_bynode\", \"grow_policy\", \"num_parallel_tree\", \"subsample\" } might not be used.\n",
      "\n",
      "  This could be a false alarm, with some parameters getting used by language bindings but\n",
      "  then being mistakenly passed down to XGBoost core, or some parameter actually being used\n",
      "  but getting flagged wrongly here. Please open an issue if you find any such cases.\n",
      "\n",
      "\n",
      "[23:04:29] WARNING: C:/Users/Administrator/workspace/xgboost-win64_release_1.6.0/src/learner.cc:627: \n",
      "Parameters: { \"colsample_bynode\", \"grow_policy\", \"num_parallel_tree\", \"subsample\" } might not be used.\n",
      "\n",
      "  This could be a false alarm, with some parameters getting used by language bindings but\n",
      "  then being mistakenly passed down to XGBoost core, or some parameter actually being used\n",
      "  but getting flagged wrongly here. Please open an issue if you find any such cases.\n",
      "\n",
      "\n",
      "[23:04:29] WARNING: C:/Users/Administrator/workspace/xgboost-win64_release_1.6.0/src/learner.cc:627: \n",
      "Parameters: { \"colsample_bynode\", \"grow_policy\", \"num_parallel_tree\", \"subsample\" } might not be used.\n",
      "\n",
      "  This could be a false alarm, with some parameters getting used by language bindings but\n",
      "  then being mistakenly passed down to XGBoost core, or some parameter actually being used\n",
      "  but getting flagged wrongly here. Please open an issue if you find any such cases.\n",
      "\n",
      "\n",
      "[23:04:29] WARNING: C:/Users/Administrator/workspace/xgboost-win64_release_1.6.0/src/learner.cc:627: \n",
      "Parameters: { \"colsample_bynode\", \"grow_policy\", \"num_parallel_tree\", \"subsample\" } might not be used.\n",
      "\n",
      "  This could be a false alarm, with some parameters getting used by language bindings but\n",
      "  then being mistakenly passed down to XGBoost core, or some parameter actually being used\n",
      "  but getting flagged wrongly here. Please open an issue if you find any such cases.\n",
      "\n",
      "\n",
      "[23:04:29] WARNING: C:/Users/Administrator/workspace/xgboost-win64_release_1.6.0/src/learner.cc:627: \n",
      "Parameters: { \"colsample_bynode\", \"grow_policy\", \"num_parallel_tree\", \"subsample\" } might not be used.\n",
      "\n",
      "  This could be a false alarm, with some parameters getting used by language bindings but\n",
      "  then being mistakenly passed down to XGBoost core, or some parameter actually being used\n",
      "  but getting flagged wrongly here. Please open an issue if you find any such cases.\n",
      "\n",
      "\n",
      "[23:04:29] WARNING: C:/Users/Administrator/workspace/xgboost-win64_release_1.6.0/src/learner.cc:627: \n",
      "Parameters: { \"colsample_bynode\", \"grow_policy\", \"num_parallel_tree\", \"subsample\" } might not be used.\n",
      "\n",
      "  This could be a false alarm, with some parameters getting used by language bindings but\n",
      "  then being mistakenly passed down to XGBoost core, or some parameter actually being used\n",
      "  but getting flagged wrongly here. Please open an issue if you find any such cases.\n",
      "\n",
      "\n",
      "[23:04:29] WARNING: C:/Users/Administrator/workspace/xgboost-win64_release_1.6.0/src/learner.cc:627: \n",
      "Parameters: { \"colsample_bynode\", \"grow_policy\", \"num_parallel_tree\", \"subsample\" } might not be used.\n",
      "\n",
      "  This could be a false alarm, with some parameters getting used by language bindings but\n",
      "  then being mistakenly passed down to XGBoost core, or some parameter actually being used\n",
      "  but getting flagged wrongly here. Please open an issue if you find any such cases.\n",
      "\n",
      "\n",
      "[23:04:29] WARNING: C:/Users/Administrator/workspace/xgboost-win64_release_1.6.0/src/learner.cc:627: \n",
      "Parameters: { \"colsample_bynode\", \"grow_policy\", \"num_parallel_tree\", \"subsample\" } might not be used.\n",
      "\n",
      "  This could be a false alarm, with some parameters getting used by language bindings but\n",
      "  then being mistakenly passed down to XGBoost core, or some parameter actually being used\n",
      "  but getting flagged wrongly here. Please open an issue if you find any such cases.\n",
      "\n",
      "\n",
      "[23:04:29] WARNING: C:/Users/Administrator/workspace/xgboost-win64_release_1.6.0/src/learner.cc:627: \n",
      "Parameters: { \"colsample_bynode\", \"grow_policy\", \"num_parallel_tree\", \"subsample\" } might not be used.\n",
      "\n",
      "  This could be a false alarm, with some parameters getting used by language bindings but\n",
      "  then being mistakenly passed down to XGBoost core, or some parameter actually being used\n",
      "  but getting flagged wrongly here. Please open an issue if you find any such cases.\n",
      "\n",
      "\n",
      "[23:04:29] WARNING: C:/Users/Administrator/workspace/xgboost-win64_release_1.6.0/src/learner.cc:627: \n",
      "Parameters: { \"colsample_bynode\", \"grow_policy\", \"num_parallel_tree\", \"subsample\" } might not be used.\n",
      "\n",
      "  This could be a false alarm, with some parameters getting used by language bindings but\n",
      "  then being mistakenly passed down to XGBoost core, or some parameter actually being used\n",
      "  but getting flagged wrongly here. Please open an issue if you find any such cases.\n",
      "\n",
      "\n",
      "[23:04:30] WARNING: C:/Users/Administrator/workspace/xgboost-win64_release_1.6.0/src/learner.cc:627: \n",
      "Parameters: { \"colsample_bynode\", \"grow_policy\", \"num_parallel_tree\", \"subsample\" } might not be used.\n",
      "\n",
      "  This could be a false alarm, with some parameters getting used by language bindings but\n",
      "  then being mistakenly passed down to XGBoost core, or some parameter actually being used\n",
      "  but getting flagged wrongly here. Please open an issue if you find any such cases.\n",
      "\n",
      "\n",
      "[23:04:30] WARNING: C:/Users/Administrator/workspace/xgboost-win64_release_1.6.0/src/learner.cc:627: \n",
      "Parameters: { \"colsample_bynode\", \"grow_policy\", \"num_parallel_tree\", \"subsample\" } might not be used.\n",
      "\n",
      "  This could be a false alarm, with some parameters getting used by language bindings but\n",
      "  then being mistakenly passed down to XGBoost core, or some parameter actually being used\n",
      "  but getting flagged wrongly here. Please open an issue if you find any such cases.\n",
      "\n",
      "\n",
      "[23:04:30] WARNING: C:/Users/Administrator/workspace/xgboost-win64_release_1.6.0/src/learner.cc:627: \n",
      "Parameters: { \"colsample_bynode\", \"grow_policy\", \"num_parallel_tree\", \"subsample\" } might not be used.\n",
      "\n",
      "  This could be a false alarm, with some parameters getting used by language bindings but\n",
      "  then being mistakenly passed down to XGBoost core, or some parameter actually being used\n",
      "  but getting flagged wrongly here. Please open an issue if you find any such cases.\n",
      "\n",
      "\n",
      "[23:04:30] WARNING: C:/Users/Administrator/workspace/xgboost-win64_release_1.6.0/src/learner.cc:627: \n",
      "Parameters: { \"colsample_bynode\", \"grow_policy\", \"num_parallel_tree\", \"subsample\" } might not be used.\n",
      "\n",
      "  This could be a false alarm, with some parameters getting used by language bindings but\n",
      "  then being mistakenly passed down to XGBoost core, or some parameter actually being used\n",
      "  but getting flagged wrongly here. Please open an issue if you find any such cases.\n",
      "\n",
      "\n",
      "[23:04:30] WARNING: C:/Users/Administrator/workspace/xgboost-win64_release_1.6.0/src/learner.cc:627: \n",
      "Parameters: { \"colsample_bynode\", \"grow_policy\", \"num_parallel_tree\", \"subsample\" } might not be used.\n",
      "\n",
      "  This could be a false alarm, with some parameters getting used by language bindings but\n",
      "  then being mistakenly passed down to XGBoost core, or some parameter actually being used\n",
      "  but getting flagged wrongly here. Please open an issue if you find any such cases.\n",
      "\n",
      "\n",
      "[23:04:30] WARNING: C:/Users/Administrator/workspace/xgboost-win64_release_1.6.0/src/learner.cc:627: \n",
      "Parameters: { \"colsample_bynode\", \"grow_policy\", \"num_parallel_tree\", \"subsample\" } might not be used.\n",
      "\n",
      "  This could be a false alarm, with some parameters getting used by language bindings but\n",
      "  then being mistakenly passed down to XGBoost core, or some parameter actually being used\n",
      "  but getting flagged wrongly here. Please open an issue if you find any such cases.\n",
      "\n",
      "\n",
      "[23:04:30] WARNING: C:/Users/Administrator/workspace/xgboost-win64_release_1.6.0/src/learner.cc:627: \n",
      "Parameters: { \"colsample_bynode\", \"grow_policy\", \"num_parallel_tree\", \"subsample\" } might not be used.\n",
      "\n",
      "  This could be a false alarm, with some parameters getting used by language bindings but\n",
      "  then being mistakenly passed down to XGBoost core, or some parameter actually being used\n",
      "  but getting flagged wrongly here. Please open an issue if you find any such cases.\n",
      "\n",
      "\n",
      "[23:04:30] WARNING: C:/Users/Administrator/workspace/xgboost-win64_release_1.6.0/src/learner.cc:627: \n",
      "Parameters: { \"colsample_bynode\", \"grow_policy\", \"num_parallel_tree\", \"subsample\" } might not be used.\n",
      "\n",
      "  This could be a false alarm, with some parameters getting used by language bindings but\n",
      "  then being mistakenly passed down to XGBoost core, or some parameter actually being used\n",
      "  but getting flagged wrongly here. Please open an issue if you find any such cases.\n",
      "\n",
      "\n",
      "[23:04:30] WARNING: C:/Users/Administrator/workspace/xgboost-win64_release_1.6.0/src/learner.cc:627: \n",
      "Parameters: { \"colsample_bynode\", \"grow_policy\", \"num_parallel_tree\", \"subsample\" } might not be used.\n",
      "\n",
      "  This could be a false alarm, with some parameters getting used by language bindings but\n",
      "  then being mistakenly passed down to XGBoost core, or some parameter actually being used\n",
      "  but getting flagged wrongly here. Please open an issue if you find any such cases.\n",
      "\n",
      "\n",
      "[23:04:30] WARNING: C:/Users/Administrator/workspace/xgboost-win64_release_1.6.0/src/learner.cc:627: \n",
      "Parameters: { \"colsample_bynode\", \"grow_policy\", \"num_parallel_tree\", \"subsample\" } might not be used.\n",
      "\n",
      "  This could be a false alarm, with some parameters getting used by language bindings but\n",
      "  then being mistakenly passed down to XGBoost core, or some parameter actually being used\n",
      "  but getting flagged wrongly here. Please open an issue if you find any such cases.\n",
      "\n",
      "\n",
      "[23:04:30] WARNING: C:/Users/Administrator/workspace/xgboost-win64_release_1.6.0/src/learner.cc:627: \n",
      "Parameters: { \"colsample_bynode\", \"grow_policy\", \"num_parallel_tree\", \"subsample\" } might not be used.\n",
      "\n",
      "  This could be a false alarm, with some parameters getting used by language bindings but\n",
      "  then being mistakenly passed down to XGBoost core, or some parameter actually being used\n",
      "  but getting flagged wrongly here. Please open an issue if you find any such cases.\n",
      "\n",
      "\n",
      "[23:04:30] WARNING: C:/Users/Administrator/workspace/xgboost-win64_release_1.6.0/src/learner.cc:627: \n",
      "Parameters: { \"colsample_bynode\", \"grow_policy\", \"num_parallel_tree\", \"subsample\" } might not be used.\n",
      "\n",
      "  This could be a false alarm, with some parameters getting used by language bindings but\n",
      "  then being mistakenly passed down to XGBoost core, or some parameter actually being used\n",
      "  but getting flagged wrongly here. Please open an issue if you find any such cases.\n",
      "\n",
      "\n",
      "[23:04:30] WARNING: C:/Users/Administrator/workspace/xgboost-win64_release_1.6.0/src/learner.cc:627: \n",
      "Parameters: { \"colsample_bynode\", \"grow_policy\", \"num_parallel_tree\", \"subsample\" } might not be used.\n",
      "\n",
      "  This could be a false alarm, with some parameters getting used by language bindings but\n",
      "  then being mistakenly passed down to XGBoost core, or some parameter actually being used\n",
      "  but getting flagged wrongly here. Please open an issue if you find any such cases.\n",
      "\n",
      "\n",
      "----------\n",
      "iter: 1\n",
      "n_candidates: 7\n",
      "n_resources: 1920\n",
      "Fitting 3 folds for each of 7 candidates, totalling 21 fits\n",
      "----------\n",
      "iter: 2\n",
      "n_candidates: 3\n",
      "n_resources: 5760\n",
      "Fitting 3 folds for each of 3 candidates, totalling 9 fits\n"
     ]
    },
    {
     "data": {
      "text/plain": [
       "HalvingGridSearchCV(cv=3,\n",
       "                    estimator=XGBRFRegressor(base_score=None, booster=None,\n",
       "                                             callbacks=None,\n",
       "                                             colsample_bylevel=None,\n",
       "                                             colsample_bytree=None,\n",
       "                                             early_stopping_rounds=None,\n",
       "                                             enable_categorical=False,\n",
       "                                             eval_metric=None, gamma=None,\n",
       "                                             gpu_id=None, grow_policy=None,\n",
       "                                             importance_type=None,\n",
       "                                             interaction_constraints=None,\n",
       "                                             max_bin=None,\n",
       "                                             max_cat_to_onehot=None,\n",
       "                                             max_delta_step=N...\n",
       "                                             monotone_constraints=None,\n",
       "                                             n_estimators=100, n_jobs=None,\n",
       "                                             num_parallel_tree=None,\n",
       "                                             objective='reg:squarederror',\n",
       "                                             predictor=None, random_state=402,\n",
       "                                             reg_alpha=None,\n",
       "                                             sampling_method=None,\n",
       "                                             scale_pos_weight=None, ...),\n",
       "                    param_grid={'booster': ['gbtree', 'gblinear'],\n",
       "                                'grow_policy': ['depthwise', 'lossguide'],\n",
       "                                'n_estimators': [100, 200, 500, 1000, 5000]},\n",
       "                    scoring='neg_mean_squared_error', verbose=1)"
      ]
     },
     "execution_count": 168,
     "metadata": {},
     "output_type": "execute_result"
    }
   ],
   "source": [
    "xgr = xgb.XGBRFRegressor(random_state=402)\n",
    "\n",
    "params = {\n",
    "    \"n_estimators\": [100, 200, 500, 1000, 5000],\n",
    "    'booster': [\"gbtree\", \"gblinear\"],\n",
    "    \"grow_policy\": ['depthwise', 'lossguide'],\n",
    "}\n",
    "\n",
    "xgr_grid = HalvingGridSearchCV(\n",
    "    xgr, param_grid=params, scoring=\"neg_mean_squared_error\", cv=3, verbose=1)\n",
    "xgr_grid.fit(X_train_scaled, y_train)\n"
   ]
  },
  {
   "cell_type": "code",
   "execution_count": 169,
   "metadata": {},
   "outputs": [
    {
     "data": {
      "text/plain": [
       "-176.42769591268896"
      ]
     },
     "execution_count": 169,
     "metadata": {},
     "output_type": "execute_result"
    }
   ],
   "source": [
    "xgr_grid.best_score_\n"
   ]
  },
  {
   "cell_type": "code",
   "execution_count": 170,
   "metadata": {},
   "outputs": [],
   "source": [
    "xgr = xgr_grid.best_estimator_\n"
   ]
  },
  {
   "cell_type": "markdown",
   "metadata": {
    "jp-MarkdownHeadingCollapsed": true,
    "tags": []
   },
   "source": [
    "#### **Voting Regressor**"
   ]
  },
  {
   "cell_type": "code",
   "execution_count": 171,
   "metadata": {},
   "outputs": [
    {
     "data": {
      "text/plain": [
       "VotingRegressor(estimators=[('svr', SVR(C=20, kernel='poly')),\n",
       "                            ('rnd_forest',\n",
       "                             RandomForestRegressor(max_depth=8,\n",
       "                                                   n_estimators=300,\n",
       "                                                   oob_score=True,\n",
       "                                                   random_state=42)),\n",
       "                            ('dec_tree',\n",
       "                             DecisionTreeRegressor(max_depth=18,\n",
       "                                                   min_samples_split=42,\n",
       "                                                   random_state=42)),\n",
       "                            ('xgr',\n",
       "                             XGBRFRegressor(base_score=0.5, booster='gbtree',\n",
       "                                            callbacks=None, colsample_bylevel=1,\n",
       "                                            colsample_bytree=...\n",
       "                                            importance_type=None,\n",
       "                                            interaction_constraints='',\n",
       "                                            max_bin=256, max_cat_to_onehot=4,\n",
       "                                            max_delta_step=0, max_depth=6,\n",
       "                                            max_leaves=0, min_child_weight=1,\n",
       "                                            missing=nan,\n",
       "                                            monotone_constraints='()',\n",
       "                                            n_estimators=500, n_jobs=0,\n",
       "                                            num_parallel_tree=500,\n",
       "                                            objective='reg:squarederror',\n",
       "                                            predictor='auto', random_state=402,\n",
       "                                            reg_alpha=0,\n",
       "                                            sampling_method='uniform',\n",
       "                                            scale_pos_weight=1, ...))])"
      ]
     },
     "execution_count": 171,
     "metadata": {},
     "output_type": "execute_result"
    }
   ],
   "source": [
    "voting = VotingRegressor([\n",
    "    ('svr', svr),\n",
    "    ('rnd_forest', rnd_forest),\n",
    "    ('dec_tree', dec_tree),\n",
    "    ('xgr', xgr),\n",
    "])\n",
    "voting.fit(X_train_scaled, y_train)\n"
   ]
  },
  {
   "cell_type": "markdown",
   "metadata": {
    "jp-MarkdownHeadingCollapsed": true,
    "tags": []
   },
   "source": [
    "## **Predictions**"
   ]
  },
  {
   "cell_type": "code",
   "execution_count": 172,
   "metadata": {},
   "outputs": [],
   "source": [
    "y_pred = voting.predict(X_test_scaled)\n"
   ]
  },
  {
   "cell_type": "code",
   "execution_count": 173,
   "metadata": {},
   "outputs": [
    {
     "data": {
      "text/plain": [
       "11.775540476433052"
      ]
     },
     "execution_count": 173,
     "metadata": {},
     "output_type": "execute_result"
    }
   ],
   "source": [
    "mse = mse(y_test, y_pred)\n",
    "np.sqrt(mse)\n"
   ]
  },
  {
   "cell_type": "code",
   "execution_count": null,
   "metadata": {},
   "outputs": [],
   "source": []
  }
 ],
 "metadata": {
  "kernelspec": {
   "display_name": "Python 3 (ipykernel)",
   "language": "python",
   "name": "python3"
  },
  "language_info": {
   "codemirror_mode": {
    "name": "ipython",
    "version": 3
   },
   "file_extension": ".py",
   "mimetype": "text/x-python",
   "name": "python",
   "nbconvert_exporter": "python",
   "pygments_lexer": "ipython3",
   "version": "3.9.7"
  },
  "vscode": {
   "interpreter": {
    "hash": "cc2f14897ac7a0b3c9a172ad801bb417855057f30cb4b5ba4189b2698c688ddc"
   }
  }
 },
 "nbformat": 4,
 "nbformat_minor": 4
}
